{
 "cells": [
  {
   "cell_type": "markdown",
   "metadata": {
    "id": "a58d87e169fd494985cfda47d30b91c7"
   },
   "source": [
    "# Using IBM watsonx.governance - monitoring the models deployed in Azure Databricks workspace"
   ]
  },
  {
   "cell_type": "code",
   "execution_count": 2,
   "metadata": {},
   "outputs": [],
   "source": [
    "import warnings\n",
    "warnings.filterwarnings(\"ignore\")"
   ]
  },
  {
   "cell_type": "markdown",
   "metadata": {
    "id": "29558d996079424c949f2af2480ac01c"
   },
   "source": [
    "### Cloud Pak for Data Credentials"
   ]
  },
  {
   "cell_type": "code",
   "execution_count": 1,
   "metadata": {
    "id": "e99873e1461c419b85009e90bf5b2665"
   },
   "outputs": [],
   "source": [
    "#masked\n",
    "WOS_CREDENTIALS = {\n",
    "    \"url\": \"[CPD URL]\",\n",
    "    \"username\": \"[CPD User]\",\n",
    "    \"password\": \"[CPD User Password]\",\n",
    "    \"apikey\": \"[CPD User APIKey]\",\n",
    "    \"version\": \"5.0\"\n",
    "}"
   ]
  },
  {
   "cell_type": "code",
   "execution_count": null,
   "metadata": {
    "id": "00ba803b738246819a0748874c18dae3"
   },
   "outputs": [],
   "source": [
    "WML_CREDENTIALS = WOS_CREDENTIALS.copy()\n",
    "WML_CREDENTIALS['instance_id']='openshift'\n",
    "WML_CREDENTIALS"
   ]
  },
  {
   "attachments": {},
   "cell_type": "markdown",
   "metadata": {
    "id": "aa7d7416df0344d4afd6a1c0530a761f"
   },
   "source": [
    "# Wraps the deployed model in Azure Databricks as WML Python Function\n",
    "\n",
    "* Use the Azure Portal https://portal.azure.com/#home to create Azure Databricks workspace (subscription).\n",
    "* Lauch the Azure Databricks workspace (https://adb-xxxx.xx.azuredatabricks.net) to first create the Cluster\n",
    "* Load the data https://github.com/ravichamarthy/azure-databricks/blob/main/insurance.csv to a new table in Azure Databricks Catalog\n",
    "* Create an AutoML experiment against using the loaded data as the training data.\n",
    "* Register one of the experiment as the model\n",
    "* Use the registered model to create an inference endpoint.\n",
    "* This inference endpoint is what we will use for monitoring the model deployment in IBM watsonx.governance.\n",
    "* We will wrap the inference endpoint as a python function deployed in WML for monitoring purposes.\n",
    "* The main job of this python function is to invoke the invocations endpoint and send the response back as the Python Function.\n",
    "* The advantake of wrapping the Azure Databricks model deployment over WML Python Function is, one can get the automatic payload logging, instead of manually log the scored output to IBM watsonx.governance data mart."
   ]
  },
  {
   "cell_type": "code",
   "execution_count": 4,
   "metadata": {
    "id": "1e6256dbe6474a988f5bc655380eb6ee"
   },
   "outputs": [],
   "source": [
    "def azure_databricks_scoring_wrapper():\n",
    "\n",
    "    AZURE_DATABRICKS_TOKEN = '[Azure Databricks API Token]' #generate a token in Azure Databricks console, with desired validity.\n",
    "    invocations_url = '[Azure Databricks Invocations URL]'\n",
    "    \n",
    "    import os\n",
    "    import requests\n",
    "    import numpy as np\n",
    "    import pandas as pd\n",
    "    import json\n",
    "    \n",
    "    #entry point scoring method for this python function    \n",
    "    def score(scoring_payload):\n",
    "        \n",
    "        headers = {}\n",
    "        headers[\"Content-Type\"] = \"application/json\"\n",
    "        headers[\"Accept\"] = \"application/json\"\n",
    "        headers[\"Authorization\"] = \"Bearer {}\".format(AZURE_DATABRICKS_TOKEN)        \n",
    "        \n",
    "        input_fields = scoring_payload['input_data'][0]['fields']\n",
    "        input_values = scoring_payload['input_data'][0]['values']\n",
    "\n",
    "        # construct the scoring payload for ADB Model Deployment\n",
    "        adb_scoring_payload = {\n",
    "            \"dataframe_split\": {\n",
    "                \"columns\": input_fields,\n",
    "                \"data\": input_values\n",
    "            }\n",
    "        }\n",
    "        \n",
    "        # get the response\n",
    "        response = requests.post(invocations_url, headers=headers, json = adb_scoring_payload, verify=False)\n",
    "        response_json = response.json()\n",
    "\n",
    "        # construct the response to what WML Python Function should send back.\n",
    "        transformed_response = {\n",
    "            'predictions': [{\n",
    "                'values': [[round(value, 4)] for value in response_json['predictions']],\n",
    "                'fields': ['prediction']\n",
    "            }]\n",
    "        }        \n",
    "        return transformed_response\n",
    "    return score"
   ]
  },
  {
   "cell_type": "markdown",
   "metadata": {
    "id": "50e676f2764441f8829d74f7bd362d43"
   },
   "source": [
    "### Construct the scoring payload "
   ]
  },
  {
   "cell_type": "code",
   "execution_count": 5,
   "metadata": {
    "id": "81fb29accc224a909b7283ef87587edf"
   },
   "outputs": [],
   "source": [
    "from IPython.utils import io\n",
    "\n",
    "with io.capture_output() as captured:\n",
    "    !wget https://raw.githubusercontent.com/ravichamarthy/azure-databricks/main/insurance.csv"
   ]
  },
  {
   "cell_type": "code",
   "execution_count": 6,
   "metadata": {
    "id": "c19fba9b404147ba83ae66f6c36a7886"
   },
   "outputs": [
    {
     "name": "stdout",
     "output_type": "stream",
     "text": [
      "-rw-r--r-- 1 hadoop hadoop 72K Jun 30 08:54 insurance.csv\n"
     ]
    }
   ],
   "source": [
    "!ls -lh insurance.csv"
   ]
  },
  {
   "cell_type": "code",
   "execution_count": 7,
   "metadata": {
    "id": "8bef96765a28469fb2de5afb87c88df7"
   },
   "outputs": [
    {
     "data": {
      "text/html": [
       "<div>\n",
       "<style scoped>\n",
       "    .dataframe tbody tr th:only-of-type {\n",
       "        vertical-align: middle;\n",
       "    }\n",
       "\n",
       "    .dataframe tbody tr th {\n",
       "        vertical-align: top;\n",
       "    }\n",
       "\n",
       "    .dataframe thead th {\n",
       "        text-align: right;\n",
       "    }\n",
       "</style>\n",
       "<table border=\"1\" class=\"dataframe\">\n",
       "  <thead>\n",
       "    <tr style=\"text-align: right;\">\n",
       "      <th></th>\n",
       "      <th>age</th>\n",
       "      <th>sex</th>\n",
       "      <th>bmi</th>\n",
       "      <th>children</th>\n",
       "      <th>smoker</th>\n",
       "      <th>region</th>\n",
       "      <th>charges</th>\n",
       "    </tr>\n",
       "  </thead>\n",
       "  <tbody>\n",
       "    <tr>\n",
       "      <th>0</th>\n",
       "      <td>19</td>\n",
       "      <td>female</td>\n",
       "      <td>27.900</td>\n",
       "      <td>0</td>\n",
       "      <td>SMOKER</td>\n",
       "      <td>southwest</td>\n",
       "      <td>16884.92400</td>\n",
       "    </tr>\n",
       "    <tr>\n",
       "      <th>1</th>\n",
       "      <td>18</td>\n",
       "      <td>male</td>\n",
       "      <td>33.770</td>\n",
       "      <td>1</td>\n",
       "      <td>NON_SMOKER</td>\n",
       "      <td>southeast</td>\n",
       "      <td>1725.55230</td>\n",
       "    </tr>\n",
       "    <tr>\n",
       "      <th>2</th>\n",
       "      <td>28</td>\n",
       "      <td>male</td>\n",
       "      <td>33.000</td>\n",
       "      <td>3</td>\n",
       "      <td>NON_SMOKER</td>\n",
       "      <td>southeast</td>\n",
       "      <td>4449.46200</td>\n",
       "    </tr>\n",
       "    <tr>\n",
       "      <th>3</th>\n",
       "      <td>33</td>\n",
       "      <td>male</td>\n",
       "      <td>22.705</td>\n",
       "      <td>0</td>\n",
       "      <td>NON_SMOKER</td>\n",
       "      <td>northwest</td>\n",
       "      <td>21984.47061</td>\n",
       "    </tr>\n",
       "    <tr>\n",
       "      <th>4</th>\n",
       "      <td>32</td>\n",
       "      <td>male</td>\n",
       "      <td>28.880</td>\n",
       "      <td>0</td>\n",
       "      <td>NON_SMOKER</td>\n",
       "      <td>northwest</td>\n",
       "      <td>3866.85520</td>\n",
       "    </tr>\n",
       "  </tbody>\n",
       "</table>\n",
       "</div>"
      ],
      "text/plain": [
       "   age     sex     bmi  children      smoker     region      charges\n",
       "0   19  female  27.900         0      SMOKER  southwest  16884.92400\n",
       "1   18    male  33.770         1  NON_SMOKER  southeast   1725.55230\n",
       "2   28    male  33.000         3  NON_SMOKER  southeast   4449.46200\n",
       "3   33    male  22.705         0  NON_SMOKER  northwest  21984.47061\n",
       "4   32    male  28.880         0  NON_SMOKER  northwest   3866.85520"
      ]
     },
     "execution_count": 7,
     "metadata": {},
     "output_type": "execute_result"
    }
   ],
   "source": [
    "import pandas as pd\n",
    "pd_data = pd.read_csv(\"insurance.csv\", sep=\",\", header=0)\n",
    "pd_data.head()"
   ]
  },
  {
   "cell_type": "code",
   "execution_count": 8,
   "metadata": {},
   "outputs": [
    {
     "name": "stdout",
     "output_type": "stream",
     "text": [
      "min_value:1121.8739\n",
      "max_value:63770.42801\n",
      "mean_value:13270.422265141257\n"
     ]
    }
   ],
   "source": [
    "min_value = pd_data['charges'].min()\n",
    "max_value = pd_data['charges'].max()\n",
    "mean_value = pd_data['charges'].mean()\n",
    "\n",
    "print('min_value:' + str(min_value))\n",
    "print('max_value:' + str(max_value))\n",
    "print('mean_value:' + str(mean_value))"
   ]
  },
  {
   "cell_type": "code",
   "execution_count": 9,
   "metadata": {},
   "outputs": [
    {
     "data": {
      "text/plain": [
       "0       (13651.585, 26181.296]\n",
       "1        (1059.225, 13651.585]\n",
       "2        (1059.225, 13651.585]\n",
       "3       (13651.585, 26181.296]\n",
       "4        (1059.225, 13651.585]\n",
       "                 ...          \n",
       "1333     (1059.225, 13651.585]\n",
       "1334     (1059.225, 13651.585]\n",
       "1335     (1059.225, 13651.585]\n",
       "1336     (1059.225, 13651.585]\n",
       "1337    (26181.296, 38711.006]\n",
       "Name: charges, Length: 1338, dtype: category\n",
       "Categories (5, interval[float64, right]): [(1059.225, 13651.585] < (13651.585, 26181.296] < (26181.296, 38711.006] < (38711.006, 51240.717] < (51240.717, 63770.428]]"
      ]
     },
     "execution_count": 9,
     "metadata": {},
     "output_type": "execute_result"
    }
   ],
   "source": [
    "# Define number of bins\n",
    "num_bins = 5\n",
    "\n",
    "# Create bins\n",
    "bins = pd.cut(pd_data['charges'], bins=num_bins)\n",
    "bins"
   ]
  },
  {
   "cell_type": "code",
   "execution_count": 10,
   "metadata": {
    "id": "c663ee7033854e1f8378fe2757515b26"
   },
   "outputs": [],
   "source": [
    "cols_to_remove = ['charges']\n",
    "def get_scoring_payload(no_of_records_to_score = 1):\n",
    "    for col in cols_to_remove:\n",
    "        if col in pd_data.columns:\n",
    "            del pd_data[col] \n",
    "\n",
    "    fields = pd_data.columns.tolist()\n",
    "    values = pd_data[fields].values.tolist()\n",
    "\n",
    "    payload_scoring = {\"input_data\": [{\"fields\": fields, \"values\": values[:no_of_records_to_score]}]}\n",
    "    return payload_scoring"
   ]
  },
  {
   "cell_type": "code",
   "execution_count": 11,
   "metadata": {
    "id": "afa89355478c48578fab4ae68aa0a101"
   },
   "outputs": [],
   "source": [
    "scoring_payload = get_scoring_payload(no_of_records_to_score=3)"
   ]
  },
  {
   "cell_type": "code",
   "execution_count": 12,
   "metadata": {
    "id": "c859cca376a842b696f15fa41c02b4d6"
   },
   "outputs": [
    {
     "data": {
      "text/plain": [
       "{'input_data': [{'fields': ['age',\n",
       "    'sex',\n",
       "    'bmi',\n",
       "    'children',\n",
       "    'smoker',\n",
       "    'region'],\n",
       "   'values': [[19, 'female', 27.9, 0, 'SMOKER', 'southwest'],\n",
       "    [18, 'male', 33.77, 1, 'NON_SMOKER', 'southeast'],\n",
       "    [28, 'male', 33.0, 3, 'NON_SMOKER', 'southeast']]}]}"
      ]
     },
     "execution_count": 12,
     "metadata": {},
     "output_type": "execute_result"
    }
   ],
   "source": [
    "scoring_payload"
   ]
  },
  {
   "cell_type": "markdown",
   "metadata": {
    "id": "3ee22143a34b4afc979a20808c0e0b95"
   },
   "source": [
    "### Perform a local scoring to the model deployment"
   ]
  },
  {
   "cell_type": "code",
   "execution_count": 13,
   "metadata": {
    "id": "f5ce6d96404d473c9dfad8a9f6cbef1a"
   },
   "outputs": [
    {
     "name": "stdout",
     "output_type": "stream",
     "text": [
      "{'predictions': [{'values': [[24833.0156], [3222.135], [6075.4478]], 'fields': ['prediction']}]}\n"
     ]
    }
   ],
   "source": [
    "func_result = azure_databricks_scoring_wrapper()(scoring_payload)\n",
    "print(func_result)"
   ]
  },
  {
   "cell_type": "markdown",
   "metadata": {
    "id": "07cd462a508345599067af3b603751ad"
   },
   "source": [
    "### Platform Authentication"
   ]
  },
  {
   "cell_type": "code",
   "execution_count": 14,
   "metadata": {
    "id": "33d7a1f2e850410ab3c9a8706d1a5530"
   },
   "outputs": [],
   "source": [
    "from ibm_watson_machine_learning import APIClient\n",
    "wml_client = APIClient(WML_CREDENTIALS)"
   ]
  },
  {
   "cell_type": "code",
   "execution_count": 15,
   "metadata": {
    "id": "c3a50d9538b34484a3199bcff0d4d291"
   },
   "outputs": [
    {
     "name": "stdout",
     "output_type": "stream",
     "text": [
      "------------------------------------  -------------------------------------------------------------------  ------------------------\n",
      "ID                                    NAME                                                                 CREATED\n",
      "70bcb00e-c87b-4ee8-8c65-f9f4ee5c59e8  xgovdemos-prod                                                       2024-06-30T16:33:45.792Z\n",
      "9fcb9746-56fc-454e-ba5f-aaad783bd236  xgov_prod                                                            2024-06-10T18:35:45.917Z\n",
      "543f115a-207f-4e58-affc-8ed5eccab71c  PG - PROD                                                            2024-06-10T10:53:49.743Z\n",
      "51c8acf0-a68c-4665-9279-25a3b3f139a1  PG - Test                                                            2024-06-10T10:47:16.158Z\n",
      "9fa4adb7-1254-4f67-adfc-2da8b0fb9c11  openscale-express-path-preprod-00000000-0000-0000-0000-000000000000  2024-06-07T17:10:30.128Z\n",
      "32e399a3-8d5e-486b-b1bc-a5af67797739  openscale-express-path-00000000-0000-0000-0000-000000000000          2024-06-07T17:10:18.359Z\n",
      "------------------------------------  -------------------------------------------------------------------  ------------------------\n"
     ]
    },
    {
     "data": {
      "text/html": [
       "<div>\n",
       "<style scoped>\n",
       "    .dataframe tbody tr th:only-of-type {\n",
       "        vertical-align: middle;\n",
       "    }\n",
       "\n",
       "    .dataframe tbody tr th {\n",
       "        vertical-align: top;\n",
       "    }\n",
       "\n",
       "    .dataframe thead th {\n",
       "        text-align: right;\n",
       "    }\n",
       "</style>\n",
       "<table border=\"1\" class=\"dataframe\">\n",
       "  <thead>\n",
       "    <tr style=\"text-align: right;\">\n",
       "      <th></th>\n",
       "      <th>ID</th>\n",
       "      <th>NAME</th>\n",
       "      <th>CREATED</th>\n",
       "    </tr>\n",
       "  </thead>\n",
       "  <tbody>\n",
       "    <tr>\n",
       "      <th>0</th>\n",
       "      <td>70bcb00e-c87b-4ee8-8c65-f9f4ee5c59e8</td>\n",
       "      <td>xgovdemos-prod</td>\n",
       "      <td>2024-06-30T16:33:45.792Z</td>\n",
       "    </tr>\n",
       "    <tr>\n",
       "      <th>1</th>\n",
       "      <td>9fcb9746-56fc-454e-ba5f-aaad783bd236</td>\n",
       "      <td>xgov_prod</td>\n",
       "      <td>2024-06-10T18:35:45.917Z</td>\n",
       "    </tr>\n",
       "    <tr>\n",
       "      <th>2</th>\n",
       "      <td>543f115a-207f-4e58-affc-8ed5eccab71c</td>\n",
       "      <td>PG - PROD</td>\n",
       "      <td>2024-06-10T10:53:49.743Z</td>\n",
       "    </tr>\n",
       "    <tr>\n",
       "      <th>3</th>\n",
       "      <td>51c8acf0-a68c-4665-9279-25a3b3f139a1</td>\n",
       "      <td>PG - Test</td>\n",
       "      <td>2024-06-10T10:47:16.158Z</td>\n",
       "    </tr>\n",
       "    <tr>\n",
       "      <th>4</th>\n",
       "      <td>9fa4adb7-1254-4f67-adfc-2da8b0fb9c11</td>\n",
       "      <td>openscale-express-path-preprod-00000000-0000-0...</td>\n",
       "      <td>2024-06-07T17:10:30.128Z</td>\n",
       "    </tr>\n",
       "    <tr>\n",
       "      <th>5</th>\n",
       "      <td>32e399a3-8d5e-486b-b1bc-a5af67797739</td>\n",
       "      <td>openscale-express-path-00000000-0000-0000-0000...</td>\n",
       "      <td>2024-06-07T17:10:18.359Z</td>\n",
       "    </tr>\n",
       "  </tbody>\n",
       "</table>\n",
       "</div>"
      ],
      "text/plain": [
       "                                     ID  \\\n",
       "0  70bcb00e-c87b-4ee8-8c65-f9f4ee5c59e8   \n",
       "1  9fcb9746-56fc-454e-ba5f-aaad783bd236   \n",
       "2  543f115a-207f-4e58-affc-8ed5eccab71c   \n",
       "3  51c8acf0-a68c-4665-9279-25a3b3f139a1   \n",
       "4  9fa4adb7-1254-4f67-adfc-2da8b0fb9c11   \n",
       "5  32e399a3-8d5e-486b-b1bc-a5af67797739   \n",
       "\n",
       "                                                NAME                   CREATED  \n",
       "0                                     xgovdemos-prod  2024-06-30T16:33:45.792Z  \n",
       "1                                          xgov_prod  2024-06-10T18:35:45.917Z  \n",
       "2                                          PG - PROD  2024-06-10T10:53:49.743Z  \n",
       "3                                          PG - Test  2024-06-10T10:47:16.158Z  \n",
       "4  openscale-express-path-preprod-00000000-0000-0...  2024-06-07T17:10:30.128Z  \n",
       "5  openscale-express-path-00000000-0000-0000-0000...  2024-06-07T17:10:18.359Z  "
      ]
     },
     "execution_count": 15,
     "metadata": {},
     "output_type": "execute_result"
    }
   ],
   "source": [
    "wml_client.spaces.list(limit=10)"
   ]
  },
  {
   "cell_type": "markdown",
   "metadata": {
    "id": "d3a8912c0e1749b198e1b33e66f175eb"
   },
   "source": [
    "### Use the space to deploy the WML Python Function"
   ]
  },
  {
   "cell_type": "code",
   "execution_count": 16,
   "metadata": {
    "id": "c11ba771515f453f9b4600f6d37139cc"
   },
   "outputs": [],
   "source": [
    "space_id = '70bcb00e-c87b-4ee8-8c65-f9f4ee5c59e8' #replace your space id from the above list, here"
   ]
  },
  {
   "cell_type": "code",
   "execution_count": 17,
   "metadata": {
    "id": "588c4599119b4c46b739fb2738ef5b53"
   },
   "outputs": [
    {
     "data": {
      "text/plain": [
       "'SUCCESS'"
      ]
     },
     "execution_count": 17,
     "metadata": {},
     "output_type": "execute_result"
    }
   ],
   "source": [
    "wml_client.set.default_space(space_id)"
   ]
  },
  {
   "cell_type": "code",
   "execution_count": 18,
   "metadata": {
    "id": "3253ec9e37ef4f928562784923cb753e"
   },
   "outputs": [],
   "source": [
    "DEPLOYMENT_NAME = 'ADB Insurance Charges Predictions Deployment'\n",
    "PYTHON_FUNCTION_NAME = 'ADB Insurance Charges Predictions Function'"
   ]
  },
  {
   "cell_type": "code",
   "execution_count": 19,
   "metadata": {
    "id": "c34866b99f7040f68b8261d77163841e"
   },
   "outputs": [],
   "source": [
    "def delete_deployment(DEPLOYMENT_NAME):\n",
    "    deployments_list = wml_client.deployments.get_details()\n",
    "    for deployment in deployments_list[\"resources\"]:\n",
    "        if 'asset' in deployment[\"entity\"]:\n",
    "            model_id = deployment[\"entity\"][\"asset\"][\"id\"]\n",
    "            deployment_id = deployment[\"metadata\"][\"id\"]\n",
    "            if deployment[\"metadata\"][\"name\"] == DEPLOYMENT_NAME:\n",
    "                print(\"Deleting deployment id\", deployment_id)\n",
    "                wml_client.deployments.delete(deployment_id)\n",
    "                print(\"Deleting model id\", model_id)\n",
    "                wml_client.repository.delete(model_id)    "
   ]
  },
  {
   "cell_type": "code",
   "execution_count": 23,
   "metadata": {
    "id": "100bbc3f02f14412a01915108a9f2ba4"
   },
   "outputs": [],
   "source": [
    "delete_deployment(DEPLOYMENT_NAME)"
   ]
  },
  {
   "cell_type": "code",
   "execution_count": 24,
   "metadata": {
    "id": "dc4c264c411f434b9c1b0e5641942377"
   },
   "outputs": [
    {
     "name": "stdout",
     "output_type": "stream",
     "text": [
      "----  ----  -------  ----  ----------  ----------------\n",
      "GUID  NAME  CREATED  TYPE  SPEC_STATE  SPEC_REPLACEMENT\n",
      "----  ----  -------  ----  ----------  ----------------\n"
     ]
    },
    {
     "data": {
      "text/html": [
       "<div>\n",
       "<style scoped>\n",
       "    .dataframe tbody tr th:only-of-type {\n",
       "        vertical-align: middle;\n",
       "    }\n",
       "\n",
       "    .dataframe tbody tr th {\n",
       "        vertical-align: top;\n",
       "    }\n",
       "\n",
       "    .dataframe thead th {\n",
       "        text-align: right;\n",
       "    }\n",
       "</style>\n",
       "<table border=\"1\" class=\"dataframe\">\n",
       "  <thead>\n",
       "    <tr style=\"text-align: right;\">\n",
       "      <th></th>\n",
       "      <th>GUID</th>\n",
       "      <th>NAME</th>\n",
       "      <th>CREATED</th>\n",
       "      <th>TYPE</th>\n",
       "      <th>SPEC_STATE</th>\n",
       "      <th>SPEC_REPLACEMENT</th>\n",
       "    </tr>\n",
       "  </thead>\n",
       "  <tbody>\n",
       "  </tbody>\n",
       "</table>\n",
       "</div>"
      ],
      "text/plain": [
       "Empty DataFrame\n",
       "Columns: [GUID, NAME, CREATED, TYPE, SPEC_STATE, SPEC_REPLACEMENT]\n",
       "Index: []"
      ]
     },
     "execution_count": 24,
     "metadata": {},
     "output_type": "execute_result"
    }
   ],
   "source": [
    "wml_client.repository.list_functions()"
   ]
  },
  {
   "cell_type": "markdown",
   "metadata": {
    "id": "2992403db3b94228b3e869f397750eb9"
   },
   "source": [
    "# Deploy the WML Python Function"
   ]
  },
  {
   "cell_type": "code",
   "execution_count": 25,
   "metadata": {
    "id": "c171790bc023480a9687a17bf50bca2b"
   },
   "outputs": [
    {
     "name": "stdout",
     "output_type": "stream",
     "text": [
      "336b29df-e0e1-5e7d-b6a5-f6ab722625b2\n"
     ]
    }
   ],
   "source": [
    "software_spec_id =  wml_client.software_specifications.get_id_by_name('runtime-23.1-py3.10')\n",
    "print(software_spec_id)\n",
    "function_meta_props = {\n",
    "     wml_client.repository.FunctionMetaNames.NAME: PYTHON_FUNCTION_NAME,\n",
    "     wml_client.repository.FunctionMetaNames.SOFTWARE_SPEC_ID: software_spec_id\n",
    "     }"
   ]
  },
  {
   "cell_type": "code",
   "execution_count": 26,
   "metadata": {
    "id": "4fd34af4857e46cab923b13283f60fe4"
   },
   "outputs": [
    {
     "name": "stdout",
     "output_type": "stream",
     "text": [
      "Function UID = b3a67a0a-01e0-458a-866a-2f4807f5b325\n"
     ]
    }
   ],
   "source": [
    "function_artifact = wml_client.repository.store_function(meta_props=function_meta_props, function=azure_databricks_scoring_wrapper)\n",
    "function_uid = wml_client.repository.get_function_id(function_artifact)\n",
    "print(\"Function UID = \" + function_uid)"
   ]
  },
  {
   "cell_type": "code",
   "execution_count": 27,
   "metadata": {
    "id": "620efe8a7cee42b98e05c9b7a2c674a6"
   },
   "outputs": [
    {
     "name": "stdout",
     "output_type": "stream",
     "text": [
      "{'entity': {'software_spec': {'id': '336b29df-e0e1-5e7d-b6a5-f6ab722625b2',\n",
      "                              'name': 'runtime-23.1-py3.10'},\n",
      "            'type': 'python'},\n",
      " 'metadata': {'created_at': '2024-07-02T13:22:25.869Z',\n",
      "              'id': 'b3a67a0a-01e0-458a-866a-2f4807f5b325',\n",
      "              'modified_at': '2024-07-02T13:22:26.175Z',\n",
      "              'name': 'ADB Insurance Charges Predictions Function',\n",
      "              'owner': '1000331001',\n",
      "              'space_id': '70bcb00e-c87b-4ee8-8c65-f9f4ee5c59e8'},\n",
      " 'system': {'warnings': []}}\n"
     ]
    }
   ],
   "source": [
    "function_details = wml_client.repository.get_details(function_uid)\n",
    "from pprint import pprint\n",
    "pprint(function_details)"
   ]
  },
  {
   "cell_type": "code",
   "execution_count": 28,
   "metadata": {
    "id": "392521387b2842f58bf74019212f948c"
   },
   "outputs": [
    {
     "data": {
      "text/plain": [
       "'c076e82c-b2a7-4d20-9c0f-1f0c2fdf5a24'"
      ]
     },
     "execution_count": 28,
     "metadata": {},
     "output_type": "execute_result"
    }
   ],
   "source": [
    "hardware_spec_id = wml_client.hardware_specifications.get_id_by_name('M')\n",
    "hardware_spec_id"
   ]
  },
  {
   "cell_type": "code",
   "execution_count": 29,
   "metadata": {
    "id": "2917d70add0146ba885e4eaa4b1cf1df"
   },
   "outputs": [],
   "source": [
    "deploy_meta = {\n",
    " wml_client.deployments.ConfigurationMetaNames.NAME: DEPLOYMENT_NAME,\n",
    " wml_client.deployments.ConfigurationMetaNames.ONLINE: {},\n",
    " wml_client.deployments.ConfigurationMetaNames.HARDWARE_SPEC: { \"id\": hardware_spec_id}\n",
    "}"
   ]
  },
  {
   "cell_type": "code",
   "execution_count": 30,
   "metadata": {
    "id": "fb139c013afe44ad8f8225b63020e0a0"
   },
   "outputs": [
    {
     "name": "stdout",
     "output_type": "stream",
     "text": [
      "\n",
      "\n",
      "#######################################################################################\n",
      "\n",
      "Synchronous deployment creation for uid: 'b3a67a0a-01e0-458a-866a-2f4807f5b325' started\n",
      "\n",
      "#######################################################################################\n",
      "\n",
      "\n",
      "initializing\n",
      "Note: online_url is deprecated and will be removed in a future release. Use serving_urls instead.\n",
      "......\n",
      "ready\n",
      "\n",
      "\n",
      "------------------------------------------------------------------------------------------------\n",
      "Successfully finished deployment creation, deployment_uid='ed6c6836-d60c-4030-aec2-b9a5ca658e3c'\n",
      "------------------------------------------------------------------------------------------------\n",
      "\n",
      "\n"
     ]
    }
   ],
   "source": [
    "deployment_details = wml_client.deployments.create(function_uid, meta_props=deploy_meta)"
   ]
  },
  {
   "cell_type": "code",
   "execution_count": null,
   "metadata": {},
   "outputs": [],
   "source": [
    "deployment_details"
   ]
  },
  {
   "cell_type": "code",
   "execution_count": 32,
   "metadata": {
    "id": "9a27031672f34b5d88041a10f7206de1"
   },
   "outputs": [
    {
     "data": {
      "text/plain": [
       "'ed6c6836-d60c-4030-aec2-b9a5ca658e3c'"
      ]
     },
     "execution_count": 32,
     "metadata": {},
     "output_type": "execute_result"
    }
   ],
   "source": [
    "pyfunc_deployment_id = wml_client.deployments.get_id(deployment_details)\n",
    "pyfunc_deployment_id"
   ]
  },
  {
   "cell_type": "markdown",
   "metadata": {
    "id": "927337dd631244758c9d30f89fe11ec2"
   },
   "source": [
    "### Get the scoring URL for the python function deployment"
   ]
  },
  {
   "cell_type": "code",
   "execution_count": 33,
   "metadata": {
    "id": "1a31f850d31f4cdc84d4b45800c8d345"
   },
   "outputs": [],
   "source": [
    "created_at = deployment_details['metadata']['created_at']\n",
    "find_string_pos = created_at.find(\"T\")\n",
    "if find_string_pos != -1:\n",
    "    current_date = created_at[0:find_string_pos]\n",
    "scoring_url = wml_client.deployments.get_scoring_href(deployment_details)\n",
    "scoring_url = scoring_url + \"?version=\"+current_date"
   ]
  },
  {
   "cell_type": "code",
   "execution_count": null,
   "metadata": {},
   "outputs": [],
   "source": [
    "scoring_url"
   ]
  },
  {
   "cell_type": "markdown",
   "metadata": {
    "id": "12423e41cd544b198e21ea11949ddefa"
   },
   "source": [
    "# Perform scoring for the deployed python function"
   ]
  },
  {
   "cell_type": "code",
   "execution_count": 35,
   "metadata": {
    "id": "bfba786693b9403390276eb3496944bf"
   },
   "outputs": [
    {
     "name": "stdout",
     "output_type": "stream",
     "text": [
      "{'predictions': [{'fields': ['prediction'],\n",
      "                  'values': [[24833.0156], [3222.135], [6075.4478]]}]}\n"
     ]
    }
   ],
   "source": [
    "job_details = wml_client.deployments.score(pyfunc_deployment_id, scoring_payload)\n",
    "pprint(job_details)"
   ]
  },
  {
   "cell_type": "markdown",
   "metadata": {
    "id": "d19da1e20fce4eef862b26d1aa993758"
   },
   "source": [
    "# IBM watsonx.governance - monitoring Configuration"
   ]
  },
  {
   "cell_type": "markdown",
   "metadata": {
    "id": "36ba8c1b780b473c85f6f1b8ddd76d64"
   },
   "source": [
    "## Get the training data"
   ]
  },
  {
   "cell_type": "code",
   "execution_count": 36,
   "metadata": {
    "id": "972ac603c5614563be21286d0a0ec3df"
   },
   "outputs": [
    {
     "data": {
      "text/html": [
       "<div>\n",
       "<style scoped>\n",
       "    .dataframe tbody tr th:only-of-type {\n",
       "        vertical-align: middle;\n",
       "    }\n",
       "\n",
       "    .dataframe tbody tr th {\n",
       "        vertical-align: top;\n",
       "    }\n",
       "\n",
       "    .dataframe thead th {\n",
       "        text-align: right;\n",
       "    }\n",
       "</style>\n",
       "<table border=\"1\" class=\"dataframe\">\n",
       "  <thead>\n",
       "    <tr style=\"text-align: right;\">\n",
       "      <th></th>\n",
       "      <th>age</th>\n",
       "      <th>sex</th>\n",
       "      <th>bmi</th>\n",
       "      <th>children</th>\n",
       "      <th>smoker</th>\n",
       "      <th>region</th>\n",
       "      <th>charges</th>\n",
       "    </tr>\n",
       "  </thead>\n",
       "  <tbody>\n",
       "    <tr>\n",
       "      <th>0</th>\n",
       "      <td>19</td>\n",
       "      <td>female</td>\n",
       "      <td>27.900</td>\n",
       "      <td>0</td>\n",
       "      <td>SMOKER</td>\n",
       "      <td>southwest</td>\n",
       "      <td>16884.92400</td>\n",
       "    </tr>\n",
       "    <tr>\n",
       "      <th>1</th>\n",
       "      <td>18</td>\n",
       "      <td>male</td>\n",
       "      <td>33.770</td>\n",
       "      <td>1</td>\n",
       "      <td>NON_SMOKER</td>\n",
       "      <td>southeast</td>\n",
       "      <td>1725.55230</td>\n",
       "    </tr>\n",
       "    <tr>\n",
       "      <th>2</th>\n",
       "      <td>28</td>\n",
       "      <td>male</td>\n",
       "      <td>33.000</td>\n",
       "      <td>3</td>\n",
       "      <td>NON_SMOKER</td>\n",
       "      <td>southeast</td>\n",
       "      <td>4449.46200</td>\n",
       "    </tr>\n",
       "    <tr>\n",
       "      <th>3</th>\n",
       "      <td>33</td>\n",
       "      <td>male</td>\n",
       "      <td>22.705</td>\n",
       "      <td>0</td>\n",
       "      <td>NON_SMOKER</td>\n",
       "      <td>northwest</td>\n",
       "      <td>21984.47061</td>\n",
       "    </tr>\n",
       "    <tr>\n",
       "      <th>4</th>\n",
       "      <td>32</td>\n",
       "      <td>male</td>\n",
       "      <td>28.880</td>\n",
       "      <td>0</td>\n",
       "      <td>NON_SMOKER</td>\n",
       "      <td>northwest</td>\n",
       "      <td>3866.85520</td>\n",
       "    </tr>\n",
       "  </tbody>\n",
       "</table>\n",
       "</div>"
      ],
      "text/plain": [
       "   age     sex     bmi  children      smoker     region      charges\n",
       "0   19  female  27.900         0      SMOKER  southwest  16884.92400\n",
       "1   18    male  33.770         1  NON_SMOKER  southeast   1725.55230\n",
       "2   28    male  33.000         3  NON_SMOKER  southeast   4449.46200\n",
       "3   33    male  22.705         0  NON_SMOKER  northwest  21984.47061\n",
       "4   32    male  28.880         0  NON_SMOKER  northwest   3866.85520"
      ]
     },
     "execution_count": 36,
     "metadata": {},
     "output_type": "execute_result"
    }
   ],
   "source": [
    "import pandas as pd\n",
    "training_data = pd.read_csv(\"insurance.csv\", sep=\",\", header=0)\n",
    "training_data.head()"
   ]
  },
  {
   "cell_type": "code",
   "execution_count": 37,
   "metadata": {
    "id": "38cd75299c9f413586bef32779d20704"
   },
   "outputs": [
    {
     "data": {
      "text/plain": [
       "1338"
      ]
     },
     "execution_count": 37,
     "metadata": {},
     "output_type": "execute_result"
    }
   ],
   "source": [
    "len(training_data)"
   ]
  },
  {
   "cell_type": "markdown",
   "metadata": {
    "id": "9b4befa8fc594f1d9ecd67fad8b6d5fa"
   },
   "source": [
    "## Store the training data to IBM COS"
   ]
  },
  {
   "cell_type": "code",
   "execution_count": 38,
   "metadata": {
    "id": "d921b3e0cbca45fb802802bf260eae90"
   },
   "outputs": [],
   "source": [
    "IAM_URL=\"https://iam.ng.bluemix.net/oidc/token\""
   ]
  },
  {
   "cell_type": "code",
   "execution_count": 39,
   "metadata": {
    "id": "5c35a5a40b634bf686e2a23447a9bab8"
   },
   "outputs": [],
   "source": [
    "COS_API_KEY_ID = \"[IBM Cloud API Key to store the training data]\"\n",
    "COS_RESOURCE_CRN = \"[IBM Cloud COS CRN]\"\n",
    "COS_ENDPOINT = \"https://s3.us.cloud-object-storage.appdomain.cloud\""
   ]
  },
  {
   "cell_type": "code",
   "execution_count": 40,
   "metadata": {
    "id": "d16def0cf6c948dc8c9b89480d67b3b2"
   },
   "outputs": [],
   "source": [
    "BUCKET_NAME = \"testcasebucket\""
   ]
  },
  {
   "cell_type": "code",
   "execution_count": 41,
   "metadata": {
    "id": "5e224aea9505417f8a2d45aa09cf52a0"
   },
   "outputs": [],
   "source": [
    "training_data_file_name=\"insurance.csv\""
   ]
  },
  {
   "cell_type": "code",
   "execution_count": 42,
   "metadata": {
    "id": "288d5bd68a7f443293a5d9720447aebd"
   },
   "outputs": [],
   "source": [
    "import ibm_boto3\n",
    "from ibm_botocore.client import Config, ClientError\n",
    "\n",
    "cos_client = ibm_boto3.resource(\"s3\",\n",
    "    ibm_api_key_id=COS_API_KEY_ID,\n",
    "    ibm_service_instance_id=COS_RESOURCE_CRN,\n",
    "    ibm_auth_endpoint=\"https://iam.bluemix.net/oidc/token\",\n",
    "    config=Config(signature_version=\"oauth\"),\n",
    "    endpoint_url=COS_ENDPOINT\n",
    ")"
   ]
  },
  {
   "cell_type": "code",
   "execution_count": 43,
   "metadata": {
    "id": "830569e80db84e9190a4a80ca0a414b4"
   },
   "outputs": [],
   "source": [
    "with open(training_data_file_name, \"rb\") as file_data:\n",
    "    cos_client.Object(BUCKET_NAME, training_data_file_name).upload_fileobj(\n",
    "        Fileobj=file_data\n",
    "    )"
   ]
  },
  {
   "cell_type": "markdown",
   "metadata": {
    "id": "7d80120ebe914c16912a0d792b248266"
   },
   "source": [
    "## Describe the training data - features, categorical columns, label column"
   ]
  },
  {
   "cell_type": "code",
   "execution_count": 44,
   "metadata": {},
   "outputs": [],
   "source": [
    "input_fields = scoring_payload['input_data'][0]['fields']"
   ]
  },
  {
   "cell_type": "code",
   "execution_count": 45,
   "metadata": {},
   "outputs": [
    {
     "data": {
      "text/plain": [
       "['age', 'sex', 'bmi', 'children', 'smoker', 'region']"
      ]
     },
     "execution_count": 45,
     "metadata": {},
     "output_type": "execute_result"
    }
   ],
   "source": [
    "input_fields"
   ]
  },
  {
   "cell_type": "code",
   "execution_count": 46,
   "metadata": {
    "id": "149a211bae684d7693f2b2fb255457a1"
   },
   "outputs": [],
   "source": [
    "feature_columns = input_fields\n",
    "cat_features = [\n",
    "                \"sex\", \"smoker\", \"region\"\n",
    "                ]\n",
    "class_label = 'charges'\n",
    "prediction_field='prediction'"
   ]
  },
  {
   "cell_type": "markdown",
   "metadata": {
    "id": "9392ac789d0c4cdabc1d00fddbabafdd"
   },
   "source": [
    "## IBM watsonx.governance Authentication"
   ]
  },
  {
   "cell_type": "code",
   "execution_count": 47,
   "metadata": {
    "id": "2d9360b831b94e37aaaa0826eb2eabe6"
   },
   "outputs": [],
   "source": [
    "from ibm_cloud_sdk_core.authenticators import CloudPakForDataAuthenticator\n",
    "from ibm_watson_openscale import APIClient\n",
    "\n",
    "from ibm_watson_openscale import *\n",
    "from ibm_watson_openscale.supporting_classes.enums import *\n",
    "from ibm_watson_openscale.supporting_classes import *"
   ]
  },
  {
   "cell_type": "code",
   "execution_count": 48,
   "metadata": {
    "id": "cefa83f4676e4c2f976d5716f84fade2"
   },
   "outputs": [
    {
     "data": {
      "text/plain": [
       "'3.0.38'"
      ]
     },
     "execution_count": 48,
     "metadata": {},
     "output_type": "execute_result"
    }
   ],
   "source": [
    "authenticator = CloudPakForDataAuthenticator(\n",
    "        url=WML_CREDENTIALS['url'],\n",
    "        username=WML_CREDENTIALS['username'],\n",
    "        apikey=WML_CREDENTIALS['apikey'],\n",
    "        disable_ssl_verification=True\n",
    "    )\n",
    "wos_client = APIClient(service_url=WML_CREDENTIALS['url'],authenticator=authenticator)\n",
    "wos_client.version"
   ]
  },
  {
   "cell_type": "code",
   "execution_count": 49,
   "metadata": {
    "id": "672d38f7766347f4878ccdcf975a6e27"
   },
   "outputs": [
    {
     "data": {
      "text/html": [
       "<HTML>\n",
       "        <body>\n",
       "            <h3>Data Marts</h3>\n",
       "            <table style='border: 1px solid #dddddd; font-family: Courier'>\n",
       "                <th style='border: 1px solid #dddddd'>name</th><th style='border: 1px solid #dddddd'>description</th><th style='border: 1px solid #dddddd'>internal_database</th><th style='border: 1px solid #dddddd'>status</th><th style='border: 1px solid #dddddd'>created_at</th><th style='border: 1px solid #dddddd'>id</th>\n",
       "                <tr><td style='border: 1px solid #dddddd'>AIOSFASTPATHICP-00000000-0000-0000-0000-000000000000</td><td style='border: 1px solid #dddddd'>Data Mart created by OpenScale ExpressPath</td><td style='border: 1px solid #dddddd'>False</td><td style='border: 1px solid #dddddd'>active</td><td style='border: 1px solid #dddddd'>2024-06-10 04:20:14.860000+00:00</td><td style='border: 1px solid #dddddd'>00000000-0000-0000-0000-000000000000</td></tr>\n",
       "            </table>\n",
       "        </body>\n",
       "        </HTML>"
      ],
      "text/plain": [
       "<IPython.core.display.HTML object>"
      ]
     },
     "metadata": {},
     "output_type": "display_data"
    }
   ],
   "source": [
    "wos_client.data_marts.show()"
   ]
  },
  {
   "cell_type": "markdown",
   "metadata": {
    "id": "d1d030c2315544948a76424a5d469b56"
   },
   "source": [
    "## Use the existing data mart"
   ]
  },
  {
   "cell_type": "code",
   "execution_count": 50,
   "metadata": {
    "id": "f4ae7317817f4f299100fe26e2eea657"
   },
   "outputs": [
    {
     "name": "stdout",
     "output_type": "stream",
     "text": [
      "Using existing datamart 00000000-0000-0000-0000-000000000000\n"
     ]
    }
   ],
   "source": [
    "data_marts = wos_client.data_marts.list().result.data_marts\n",
    "data_mart_id=data_marts[0].metadata.id\n",
    "print('Using existing datamart {}'.format(data_mart_id))"
   ]
  },
  {
   "cell_type": "markdown",
   "metadata": {
    "id": "6fead70f334d409c8aafb953eef5a252"
   },
   "source": [
    "## Create a service provider to WML Python Function that wraps the ADB model deployment"
   ]
  },
  {
   "cell_type": "code",
   "execution_count": 51,
   "metadata": {
    "id": "f49769fd47ac433980576c58da66e0df"
   },
   "outputs": [],
   "source": [
    "SERVICE_PROVIDER_NAME = \"ADB Provider\"\n",
    "SERVICE_PROVIDER_DESCRIPTION = \"Monitoring the model deployed in Azure Databricks using WML Python Function.\""
   ]
  },
  {
   "cell_type": "markdown",
   "metadata": {
    "id": "67cc3b8350f04be388d2ffa72d6eaf71"
   },
   "source": [
    "### Cleanup of the service providers"
   ]
  },
  {
   "cell_type": "code",
   "execution_count": 52,
   "metadata": {
    "id": "40a5128e0aa9485a8caef14dcda0c1e9"
   },
   "outputs": [
    {
     "name": "stdout",
     "output_type": "stream",
     "text": [
      "Deleted existing service_provider for WML instance: da2ad422-e353-42cd-97d4-d800637e9ca4\n"
     ]
    }
   ],
   "source": [
    "service_providers = wos_client.service_providers.list().result.service_providers\n",
    "for service_provider in service_providers:\n",
    "    service_instance_name = service_provider.entity.name\n",
    "    if service_instance_name == SERVICE_PROVIDER_NAME:\n",
    "        service_provider_id = service_provider.metadata.id\n",
    "        wos_client.service_providers.delete(service_provider_id)\n",
    "        print(\"Deleted existing service_provider for WML instance: {}\".format(service_provider_id))"
   ]
  },
  {
   "cell_type": "markdown",
   "metadata": {
    "id": "ca0d5bc112174f8d8e299bfaffb70bf6"
   },
   "source": [
    "## Create the service provider here"
   ]
  },
  {
   "cell_type": "code",
   "execution_count": 54,
   "metadata": {
    "id": "1bbd0d0b7081405ba0b94925d2410a76"
   },
   "outputs": [
    {
     "name": "stdout",
     "output_type": "stream",
     "text": [
      "\n",
      "\n",
      "=================================================================================\n",
      "\n",
      " Waiting for end of adding service provider dc7d15cd-7fc9-4aae-995f-299f691dfc5c \n",
      "\n",
      "=================================================================================\n",
      "\n",
      "\n",
      "\n",
      "active\n",
      "\n",
      "-----------------------------------------------\n",
      " Successfully finished adding service provider \n",
      "-----------------------------------------------\n",
      "\n",
      "\n"
     ]
    }
   ],
   "source": [
    "added_service_provider_result = wos_client.service_providers.add(\n",
    "        name=SERVICE_PROVIDER_NAME,\n",
    "        description=SERVICE_PROVIDER_DESCRIPTION,\n",
    "        service_type=ServiceTypes.WATSON_MACHINE_LEARNING,\n",
    "        deployment_space_id = space_id,\n",
    "        operational_space_id = \"production\",\n",
    "        credentials=WMLCredentialsCP4D(\n",
    "            # url=WML_CREDENTIALS[\"url\"],\n",
    "            # username=WML_CREDENTIALS[\"username\"],\n",
    "            # apikey=WML_CREDENTIALS[\"apikey\"],\n",
    "            # instance_id=None\n",
    "        ),\n",
    "        background_mode=False\n",
    "    ).result\n",
    "service_provider_id = added_service_provider_result.metadata.id"
   ]
  },
  {
   "cell_type": "code",
   "execution_count": 55,
   "metadata": {
    "id": "654c9e6570ae4313a616bfb918f35c93"
   },
   "outputs": [
    {
     "data": {
      "text/html": [
       "<HTML>\n",
       "        <body>\n",
       "            <h3>Service Providers</h3>\n",
       "            <table style='border: 1px solid #dddddd; font-family: Courier'>\n",
       "                <th style='border: 1px solid #dddddd'>instance_id</th><th style='border: 1px solid #dddddd'>status</th><th style='border: 1px solid #dddddd'>name</th><th style='border: 1px solid #dddddd'>service_type</th><th style='border: 1px solid #dddddd'>created_at</th><th style='border: 1px solid #dddddd'>id</th>\n",
       "                <tr><td style='border: 1px solid #dddddd'>99999999-9999-9999-9999-999999999999</td><td style='border: 1px solid #dddddd'>active</td><td style='border: 1px solid #dddddd'>ADB Provider</td><td style='border: 1px solid #dddddd'>watson_machine_learning</td><td style='border: 1px solid #dddddd'>2024-07-02 13:25:50.457000+00:00</td><td style='border: 1px solid #dddddd'>dc7d15cd-7fc9-4aae-995f-299f691dfc5c</td></tr><tr><td style='border: 1px solid #dddddd'>99999999-9999-9999-9999-999999999999</td><td style='border: 1px solid #dddddd'>active</td><td style='border: 1px solid #dddddd'>PROJECT_wxgovdemos</td><td style='border: 1px solid #dddddd'>watson_machine_learning</td><td style='border: 1px solid #dddddd'>2024-06-19 12:47:10.072000+00:00</td><td style='border: 1px solid #dddddd'>f5f2edab-0d12-49ba-820d-d25bdccab14a</td></tr><tr><td style='border: 1px solid #dddddd'>None</td><td style='border: 1px solid #dddddd'>active</td><td style='border: 1px solid #dddddd'>PepGenX Service Provider</td><td style='border: 1px solid #dddddd'>custom_machine_learning</td><td style='border: 1px solid #dddddd'>2024-06-12 16:09:08.748000+00:00</td><td style='border: 1px solid #dddddd'>aceeabfe-2037-4979-aa47-a4e570b20aed</td></tr><tr><td style='border: 1px solid #dddddd'>99999999-9999-9999-9999-999999999999</td><td style='border: 1px solid #dddddd'>active</td><td style='border: 1px solid #dddddd'>SPACE_xgov_prod</td><td style='border: 1px solid #dddddd'>watson_machine_learning</td><td style='border: 1px solid #dddddd'>2024-06-10 18:40:05.513000+00:00</td><td style='border: 1px solid #dddddd'>d05cda18-b6bd-4947-8e13-2d42f547365a</td></tr><tr><td style='border: 1px solid #dddddd'>99999999-9999-9999-9999-999999999999</td><td style='border: 1px solid #dddddd'>active</td><td style='border: 1px solid #dddddd'>PROJECT_gov_demo</td><td style='border: 1px solid #dddddd'>watson_machine_learning</td><td style='border: 1px solid #dddddd'>2024-06-10 12:08:47.831000+00:00</td><td style='border: 1px solid #dddddd'>244d7f43-e1e7-4114-ad14-38d8f08aa005</td></tr><tr><td style='border: 1px solid #dddddd'>99999999-9999-9999-9999-999999999999</td><td style='border: 1px solid #dddddd'>active</td><td style='border: 1px solid #dddddd'>SPACE_PG - PROD</td><td style='border: 1px solid #dddddd'>watson_machine_learning</td><td style='border: 1px solid #dddddd'>2024-06-10 10:54:54.825000+00:00</td><td style='border: 1px solid #dddddd'>b283029b-c623-4b49-b22d-d41931d59091</td></tr><tr><td style='border: 1px solid #dddddd'>99999999-9999-9999-9999-999999999999</td><td style='border: 1px solid #dddddd'>active</td><td style='border: 1px solid #dddddd'>SPACE_PG - Test</td><td style='border: 1px solid #dddddd'>watson_machine_learning</td><td style='border: 1px solid #dddddd'>2024-06-10 10:49:51.117000+00:00</td><td style='border: 1px solid #dddddd'>a964e5bf-d7ba-4d08-8d61-8e5cd1fa8a1f</td></tr><tr><td style='border: 1px solid #dddddd'>99999999-9999-9999-9999-999999999999</td><td style='border: 1px solid #dddddd'>active</td><td style='border: 1px solid #dddddd'>PROJECT_PG</td><td style='border: 1px solid #dddddd'>watson_machine_learning</td><td style='border: 1px solid #dddddd'>2024-06-10 10:41:19.603000+00:00</td><td style='border: 1px solid #dddddd'>0afb48e0-164e-430c-b83a-e10cd109ca39</td></tr><tr><td style='border: 1px solid #dddddd'>99999999-9999-9999-9999-999999999999</td><td style='border: 1px solid #dddddd'>active</td><td style='border: 1px solid #dddddd'>WOS ExpressPath WML pre_production binding</td><td style='border: 1px solid #dddddd'>watson_machine_learning</td><td style='border: 1px solid #dddddd'>2024-06-10 04:20:25.328000+00:00</td><td style='border: 1px solid #dddddd'>53e3cf02-f42a-4f9a-b31b-413d7b567bc9</td></tr><tr><td style='border: 1px solid #dddddd'>99999999-9999-9999-9999-999999999999</td><td style='border: 1px solid #dddddd'>active</td><td style='border: 1px solid #dddddd'>WOS ExpressPath WML production binding</td><td style='border: 1px solid #dddddd'>watson_machine_learning</td><td style='border: 1px solid #dddddd'>2024-06-10 04:20:20.061000+00:00</td><td style='border: 1px solid #dddddd'>db77b1ec-adcb-4377-b8fe-8c6017dec120</td></tr>\n",
       "            </table>\n",
       "        </body>\n",
       "        </HTML>"
      ],
      "text/plain": [
       "<IPython.core.display.HTML object>"
      ]
     },
     "metadata": {},
     "output_type": "display_data"
    }
   ],
   "source": [
    "wos_client.service_providers.show()"
   ]
  },
  {
   "cell_type": "markdown",
   "metadata": {
    "id": "15a4aa516d3d46faa4f5b14f23b28a9c"
   },
   "source": [
    "## Get the python function deployment details"
   ]
  },
  {
   "cell_type": "code",
   "execution_count": null,
   "metadata": {
    "id": "72290b1f4f7f4e96b64a05d573da55df"
   },
   "outputs": [],
   "source": [
    "asset_deployment_details = wos_client.service_providers.list_assets(data_mart_id=data_mart_id, \n",
    "                                                                    service_provider_id=service_provider_id,\n",
    "                                                                    deployment_id=pyfunc_deployment_id, \n",
    "                                                                    deployment_space_id = space_id).result['resources'][0]\n",
    "asset_deployment_details"
   ]
  },
  {
   "cell_type": "code",
   "execution_count": null,
   "metadata": {
    "id": "f2a7daf60782494a8a02940cdcfe6f9f"
   },
   "outputs": [],
   "source": [
    "model_asset_details_from_deployment=wos_client.service_providers.get_deployment_asset(data_mart_id=data_mart_id,\n",
    "                                                                                      service_provider_id=service_provider_id,\n",
    "                                                                                      deployment_id=pyfunc_deployment_id,\n",
    "                                                                                      deployment_space_id=space_id)\n",
    "model_asset_details_from_deployment"
   ]
  },
  {
   "cell_type": "markdown",
   "metadata": {
    "id": "a2716f8bcdc14a77b3c995e376037d99"
   },
   "source": [
    "## Subsribe the Python Function Deployment with IBM watsonx.governance - monitoring"
   ]
  },
  {
   "cell_type": "code",
   "execution_count": 58,
   "metadata": {
    "id": "0c967bca5c204a1d86c9dace2c317a7a"
   },
   "outputs": [
    {
     "data": {
      "text/html": [
       "<HTML>\n",
       "        <body>\n",
       "            <h3>Subscriptions</h3>\n",
       "            <table style='border: 1px solid #dddddd; font-family: Courier'>\n",
       "                <th style='border: 1px solid #dddddd'>asset_id</th><th style='border: 1px solid #dddddd'>asset_type</th><th style='border: 1px solid #dddddd'>asset_name</th><th style='border: 1px solid #dddddd'>data_mart_id</th><th style='border: 1px solid #dddddd'>deployment_id</th><th style='border: 1px solid #dddddd'>deployment_name</th><th style='border: 1px solid #dddddd'>service_provider_id</th><th style='border: 1px solid #dddddd'>status</th><th style='border: 1px solid #dddddd'>created_at</th><th style='border: 1px solid #dddddd'>id</th>\n",
       "                <tr><td style='border: 1px solid #dddddd'>a2a3b00e-1759-4544-9de6-17fb0f153a92</td><td style='border: 1px solid #dddddd'>prompt</td><td style='border: 1px solid #dddddd'>Banking FAQ External prompt2 (Azure OpenAI GPT35)</td><td style='border: 1px solid #dddddd'>00000000-0000-0000-0000-000000000000</td><td style='border: 1px solid #dddddd'>143d5231-cccd-4f6b-aded-c9c1c8fcd0ce</td><td style='border: 1px solid #dddddd'>Banking FAQ External prompt2 (Azure OpenAI GPT35)</td><td style='border: 1px solid #dddddd'>f5f2edab-0d12-49ba-820d-d25bdccab14a</td><td style='border: 1px solid #dddddd'>active</td><td style='border: 1px solid #dddddd'>2024-06-20 12:56:03.916000+00:00</td><td style='border: 1px solid #dddddd'>0f7f07a2-abdd-44ec-906f-fd5e5901dbb0</td></tr><tr><td style='border: 1px solid #dddddd'>9aef2762-4289-4dcf-8580-d1d20bc60cdf</td><td style='border: 1px solid #dddddd'>prompt</td><td style='border: 1px solid #dddddd'>Banking FAQ External prompt (Azure OpenAI GPT35)</td><td style='border: 1px solid #dddddd'>00000000-0000-0000-0000-000000000000</td><td style='border: 1px solid #dddddd'>cb831032-a2a2-4235-af2d-082b7e42d2f9</td><td style='border: 1px solid #dddddd'>Banking FAQ External prompt (Azure OpenAI GPT35)</td><td style='border: 1px solid #dddddd'>f5f2edab-0d12-49ba-820d-d25bdccab14a</td><td style='border: 1px solid #dddddd'>active</td><td style='border: 1px solid #dddddd'>2024-06-20 01:11:41.428000+00:00</td><td style='border: 1px solid #dddddd'>d1c633da-5970-4635-8672-e8ec379a197c</td></tr><tr><td style='border: 1px solid #dddddd'>72d9e5bc-fa10-453c-bda9-9da47cdbbcdd</td><td style='border: 1px solid #dddddd'>model</td><td style='border: 1px solid #dddddd'>[asset] PepGenX QnA</td><td style='border: 1px solid #dddddd'>00000000-0000-0000-0000-000000000000</td><td style='border: 1px solid #dddddd'>22052618-3617-467d-a227-4d4fb0a9037e</td><td style='border: 1px solid #dddddd'>[asset] PepGenX QnA</td><td style='border: 1px solid #dddddd'>aceeabfe-2037-4979-aa47-a4e570b20aed</td><td style='border: 1px solid #dddddd'>active</td><td style='border: 1px solid #dddddd'>2024-06-12 16:09:21.763000+00:00</td><td style='border: 1px solid #dddddd'>42fa0b25-7a66-44c3-ae89-2c6f9ff3699c</td></tr><tr><td style='border: 1px solid #dddddd'>0fab89d6-9fcc-41ba-995f-c6894af3ca7a</td><td style='border: 1px solid #dddddd'>prompt</td><td style='border: 1px solid #dddddd'>External prompt sample (Open AI)</td><td style='border: 1px solid #dddddd'>00000000-0000-0000-0000-000000000000</td><td style='border: 1px solid #dddddd'>dcbdee1f-fa53-43b5-963b-7554f3b63991</td><td style='border: 1px solid #dddddd'>carbonated_drinks_app_deployment</td><td style='border: 1px solid #dddddd'>d05cda18-b6bd-4947-8e13-2d42f547365a</td><td style='border: 1px solid #dddddd'>active</td><td style='border: 1px solid #dddddd'>2024-06-11 09:54:05.519000+00:00</td><td style='border: 1px solid #dddddd'>f474858e-4341-47b4-8e5b-ecbe6333fa75</td></tr><tr><td style='border: 1px solid #dddddd'>6d050575-dc38-4e02-a3f1-0acacfed1bcb</td><td style='border: 1px solid #dddddd'>prompt</td><td style='border: 1px solid #dddddd'>External prompt sample (Open AI)</td><td style='border: 1px solid #dddddd'>00000000-0000-0000-0000-000000000000</td><td style='border: 1px solid #dddddd'>9c2ba3d8-f62c-40ee-92dd-b0538a2559e2</td><td style='border: 1px solid #dddddd'>External prompt sample (Open AI)</td><td style='border: 1px solid #dddddd'>244d7f43-e1e7-4114-ad14-38d8f08aa005</td><td style='border: 1px solid #dddddd'>active</td><td style='border: 1px solid #dddddd'>2024-06-10 12:08:50.060000+00:00</td><td style='border: 1px solid #dddddd'>24a03ac9-665e-4003-bdbd-b46a2d62f749</td></tr><tr><td style='border: 1px solid #dddddd'>95d88606-6d55-475e-9603-20cdcf8ba65f</td><td style='border: 1px solid #dddddd'>prompt</td><td style='border: 1px solid #dddddd'>HP - Detached - Summarization</td><td style='border: 1px solid #dddddd'>00000000-0000-0000-0000-000000000000</td><td style='border: 1px solid #dddddd'>f4fba2d3-7c99-4e18-9d6c-24f798f3ccd2</td><td style='border: 1px solid #dddddd'>HP - Detached - Summarization</td><td style='border: 1px solid #dddddd'>b283029b-c623-4b49-b22d-d41931d59091</td><td style='border: 1px solid #dddddd'>active</td><td style='border: 1px solid #dddddd'>2024-06-10 10:54:55.113000+00:00</td><td style='border: 1px solid #dddddd'>880a5cec-6a5c-437d-a107-d96b75eb5133</td></tr><tr><td style='border: 1px solid #dddddd'>8a1980b2-2a10-4069-9ab2-317f8c61888f</td><td style='border: 1px solid #dddddd'>prompt</td><td style='border: 1px solid #dddddd'>HP - Detached - Summarization</td><td style='border: 1px solid #dddddd'>00000000-0000-0000-0000-000000000000</td><td style='border: 1px solid #dddddd'>27d2b5a8-7fed-41d0-ae21-631c9b9560a9</td><td style='border: 1px solid #dddddd'>HP - Detached - Summarization</td><td style='border: 1px solid #dddddd'>a964e5bf-d7ba-4d08-8d61-8e5cd1fa8a1f</td><td style='border: 1px solid #dddddd'>active</td><td style='border: 1px solid #dddddd'>2024-06-10 10:49:51.415000+00:00</td><td style='border: 1px solid #dddddd'>1dd1d050-72c3-4dd7-b42e-454c2e955ea8</td></tr><tr><td style='border: 1px solid #dddddd'>f0967783-8605-461b-b26e-21e3715650cb</td><td style='border: 1px solid #dddddd'>prompt</td><td style='border: 1px solid #dddddd'>HP - Detached - Summarization</td><td style='border: 1px solid #dddddd'>00000000-0000-0000-0000-000000000000</td><td style='border: 1px solid #dddddd'>c9803953-5c55-437e-bfd1-ebf09f862e75</td><td style='border: 1px solid #dddddd'>HP - Detached - Summarization</td><td style='border: 1px solid #dddddd'>0afb48e0-164e-430c-b83a-e10cd109ca39</td><td style='border: 1px solid #dddddd'>active</td><td style='border: 1px solid #dddddd'>2024-06-10 10:41:21.613000+00:00</td><td style='border: 1px solid #dddddd'>06148744-8946-4462-9371-c5469f054137</td></tr><tr><td style='border: 1px solid #dddddd'>95b6ee15-383a-4a78-8ef6-9c6f5e99dd86</td><td style='border: 1px solid #dddddd'>model</td><td style='border: 1px solid #dddddd'>GermanCreditRiskModelICP</td><td style='border: 1px solid #dddddd'>00000000-0000-0000-0000-000000000000</td><td style='border: 1px solid #dddddd'>cd3e30e7-2dac-4baa-ad0c-73e59e994bf8</td><td style='border: 1px solid #dddddd'>GermanCreditRiskModelICP</td><td style='border: 1px solid #dddddd'>db77b1ec-adcb-4377-b8fe-8c6017dec120</td><td style='border: 1px solid #dddddd'>active</td><td style='border: 1px solid #dddddd'>2024-06-10 04:24:24.410000+00:00</td><td style='border: 1px solid #dddddd'>47b75d3a-cc19-49d8-b591-fc925b54e05c</td></tr><tr><td style='border: 1px solid #dddddd'>fb252fed-fdcb-4cf0-bc26-32a2b3786874</td><td style='border: 1px solid #dddddd'>model</td><td style='border: 1px solid #dddddd'>GermanCreditRiskModelPreProdICP</td><td style='border: 1px solid #dddddd'>00000000-0000-0000-0000-000000000000</td><td style='border: 1px solid #dddddd'>b9c9513f-8b9b-48ae-80f3-2dc162fa719a</td><td style='border: 1px solid #dddddd'>GermanCreditRiskModelPreProdICP</td><td style='border: 1px solid #dddddd'>53e3cf02-f42a-4f9a-b31b-413d7b567bc9</td><td style='border: 1px solid #dddddd'>active</td><td style='border: 1px solid #dddddd'>2024-06-10 04:22:14.034000+00:00</td><td style='border: 1px solid #dddddd'>caaded4a-1abe-4bb3-8764-a16b2f792d95</td></tr>\n",
       "            </table>\n",
       "        </body>\n",
       "        </HTML>"
      ],
      "text/plain": [
       "<IPython.core.display.HTML object>"
      ]
     },
     "metadata": {},
     "output_type": "display_data"
    },
    {
     "name": "stdout",
     "output_type": "stream",
     "text": [
      "Note: First 10 records were displayed.\n"
     ]
    }
   ],
   "source": [
    "wos_client.subscriptions.show()"
   ]
  },
  {
   "cell_type": "markdown",
   "metadata": {
    "id": "12df0a958a324f9b8ef32a84e144fefa"
   },
   "source": [
    "### Cleanup of the subscription"
   ]
  },
  {
   "cell_type": "code",
   "execution_count": 59,
   "metadata": {
    "id": "d3c912f272974fd18d2765c36f7da69e"
   },
   "outputs": [],
   "source": [
    "subscriptions = wos_client.subscriptions.list().result.subscriptions\n",
    "for subscription in subscriptions:\n",
    "    sub_model_id = subscription.entity.asset.asset_id\n",
    "    if sub_model_id == function_uid:\n",
    "        wos_client.subscriptions.delete(subscription.metadata.id)\n",
    "        print('Deleted existing subscription for model', sub_model_id)"
   ]
  },
  {
   "cell_type": "markdown",
   "metadata": {
    "id": "ce56a124171a4156856bcb9cdeb3f9a8"
   },
   "source": [
    "### Create the subscription here"
   ]
  },
  {
   "cell_type": "code",
   "execution_count": 60,
   "metadata": {
    "id": "775dc67c743a4b809b17bd72f2891714"
   },
   "outputs": [
    {
     "name": "stdout",
     "output_type": "stream",
     "text": [
      "\n",
      "\n",
      "=============================================================================\n",
      "\n",
      " Waiting for end of adding subscription 653aaacf-3940-4b75-9d1b-c860cbd83cdb \n",
      "\n",
      "=============================================================================\n",
      "\n",
      "\n",
      "\n",
      "active\n",
      "\n",
      "-------------------------------------------\n",
      " Successfully finished adding subscription \n",
      "-------------------------------------------\n",
      "\n",
      "\n"
     ]
    },
    {
     "data": {
      "text/plain": [
       "'653aaacf-3940-4b75-9d1b-c860cbd83cdb'"
      ]
     },
     "execution_count": 60,
     "metadata": {},
     "output_type": "execute_result"
    }
   ],
   "source": [
    "subscription_details = wos_client.subscriptions.add(\n",
    "        data_mart_id=data_mart_id,\n",
    "        service_provider_id=service_provider_id,\n",
    "        asset=Asset(\n",
    "            asset_id=model_asset_details_from_deployment[\"entity\"][\"asset\"][\"asset_id\"],\n",
    "            name=model_asset_details_from_deployment[\"entity\"][\"asset\"][\"name\"],\n",
    "            url=model_asset_details_from_deployment[\"entity\"][\"asset\"][\"url\"],\n",
    "            asset_type=AssetTypes.MODEL,\n",
    "            input_data_type=InputDataType.STRUCTURED,\n",
    "            problem_type=ProblemType.REGRESSION\n",
    "        ),\n",
    "        deployment=AssetDeploymentRequest(\n",
    "            deployment_id=asset_deployment_details['metadata']['guid'],\n",
    "            name=asset_deployment_details['entity']['name'],\n",
    "            deployment_type= DeploymentTypes.ONLINE,\n",
    "            url=asset_deployment_details['entity']['scoring_endpoint']['url']\n",
    "        ),\n",
    "        asset_properties=AssetPropertiesRequest(\n",
    "            label_column=class_label,\n",
    "            prediction_field=prediction_field,\n",
    "            feature_fields = feature_columns,\n",
    "            categorical_fields = cat_features,\n",
    "            training_data_reference=TrainingDataReference(type='cos',\n",
    "                                                          location=COSTrainingDataReferenceLocation(bucket = BUCKET_NAME,\n",
    "                                                                                                    file_name = training_data_file_name),\n",
    "                                                          connection=COSTrainingDataReferenceConnection.from_dict({\n",
    "                                                              \"resource_instance_id\": COS_RESOURCE_CRN,\n",
    "                                                              \"url\": COS_ENDPOINT,\n",
    "                                                              \"api_key\": COS_API_KEY_ID,\n",
    "                                                              \"iam_url\": IAM_URL})),            \n",
    "        ),\n",
    "        background_mode=False\n",
    "    ).result\n",
    "subscription_id = subscription_details.metadata.id\n",
    "subscription_id"
   ]
  },
  {
   "cell_type": "markdown",
   "metadata": {
    "id": "866ceee0e3724dcb8d87feff122dbe9d"
   },
   "source": [
    "## Get the payload logging data set id, to where the payload logging is done."
   ]
  },
  {
   "cell_type": "code",
   "execution_count": 61,
   "metadata": {
    "id": "87ae699a432f42759c27e0de786b57ff"
   },
   "outputs": [
    {
     "name": "stdout",
     "output_type": "stream",
     "text": [
      "Payload data set id:  5f5b0673-2146-4eac-b45f-4dfe00430f5c\n"
     ]
    }
   ],
   "source": [
    "import time\n",
    "\n",
    "time.sleep(5)\n",
    "payload_data_set_id = None\n",
    "payload_data_set_id = wos_client.data_sets.list(type=DataSetTypes.PAYLOAD_LOGGING, \n",
    "                                                target_target_id=subscription_id, \n",
    "                                                target_target_type=TargetTypes.SUBSCRIPTION).result.data_sets[0].metadata.id\n",
    "if payload_data_set_id is None:\n",
    "    print(\"Payload data set not found. Please check subscription status.\")\n",
    "else:\n",
    "    print(\"Payload data set id: \", payload_data_set_id)"
   ]
  },
  {
   "cell_type": "code",
   "execution_count": 62,
   "metadata": {
    "id": "b2d6994c7ced42d08c0d9dd3b6cefb5a"
   },
   "outputs": [],
   "source": [
    "scoring_payload = get_scoring_payload(no_of_records_to_score=100)"
   ]
  },
  {
   "cell_type": "markdown",
   "metadata": {
    "id": "ef4d393b774f41af84ea24b3c4ba1753"
   },
   "source": [
    "## Score the WML Python Function deployment to enable automatic payload logging "
   ]
  },
  {
   "cell_type": "code",
   "execution_count": 119,
   "metadata": {
    "id": "649244fbd90044ee829e9d5e336613ab"
   },
   "outputs": [
    {
     "name": "stdout",
     "output_type": "stream",
     "text": [
      "{'predictions': [{'fields': ['prediction'],\n",
      "                  'values': [[24833.0156],\n",
      "                             [3222.135],\n",
      "                             [6075.4478],\n",
      "                             [3256.1193],\n",
      "                             [5497.3674],\n",
      "                             [2544.2976],\n",
      "                             [10248.147],\n",
      "                             [7200.4697],\n",
      "                             [9277.2973],\n",
      "                             [11423.3053],\n",
      "                             [3242.7471],\n",
      "                             [35087.9978],\n",
      "                             [4710.0012],\n",
      "                             [14894.2719],\n",
      "                             [32500.3335],\n",
      "                             [267.8612],\n",
      "                             [12585.8869],\n",
      "                             [1747.9031],\n",
      "                             [15862.4835],\n",
      "                             [31026.696],\n",
      "                             [16232.4042],\n",
      "                             [6082.663],\n",
      "                             [2758.5908],\n",
      "                             [32365.5454],\n",
      "                             [7861.7851],\n",
      "                             [11888.2344],\n",
      "                             [11783.9053],\n",
      "                             [14296.1449],\n",
      "                             [-959.7184],\n",
      "                             [33082.603],\n",
      "                             [29025.4483],\n",
      "                             [1153.0363],\n",
      "                             [3513.4282],\n",
      "                             [13492.7166],\n",
      "                             [31539.9653],\n",
      "                             [-1384.7019],\n",
      "                             [15955.9212],\n",
      "                             [-14.531],\n",
      "                             [34829.7237],\n",
      "                             [40855.3323],\n",
      "                             [2860.9971],\n",
      "                             [8349.488],\n",
      "                             [4458.7201],\n",
      "                             [7575.1781],\n",
      "                             [11686.405],\n",
      "                             [14379.3109],\n",
      "                             [7550.8865],\n",
      "                             [6556.1645],\n",
      "                             [9749.0939],\n",
      "                             [32673.1357],\n",
      "                             [4932.2579],\n",
      "                             [5620.351],\n",
      "                             [33437.7091],\n",
      "                             [31763.067],\n",
      "                             [8382.2397],\n",
      "                             [41153.4068],\n",
      "                             [15389.4512],\n",
      "                             [27254.5417],\n",
      "                             [31912.8676],\n",
      "                             [10574.246],\n",
      "                             [9591.9176],\n",
      "                             [6602.741],\n",
      "                             [12890.1841],\n",
      "                             [3567.2618],\n",
      "                             [23513.592],\n",
      "                             [1145.2393],\n",
      "                             [17816.2293],\n",
      "                             [7176.6819],\n",
      "                             [9174.6866],\n",
      "                             [26507.6541],\n",
      "                             [25174.6197],\n",
      "                             [8250.5095],\n",
      "                             [10952.957],\n",
      "                             [13122.8313],\n",
      "                             [8826.0245],\n",
      "                             [14214.2554],\n",
      "                             [4173.8783],\n",
      "                             [4135.208],\n",
      "                             [7690.5648],\n",
      "                             [9273.3773],\n",
      "                             [5702.4633],\n",
      "                             [13177.252],\n",
      "                             [29940.1923],\n",
      "                             [16651.1605],\n",
      "                             [33795.3506],\n",
      "                             [31996.0918],\n",
      "                             [36880.4331],\n",
      "                             [10274.1563],\n",
      "                             [8479.2775],\n",
      "                             [10559.1752],\n",
      "                             [5472.0709],\n",
      "                             [9738.9597],\n",
      "                             [38934.3302],\n",
      "                             [10069.0358],\n",
      "                             [39539.8071],\n",
      "                             [7168.1293],\n",
      "                             [12314.3503],\n",
      "                             [14274.3847],\n",
      "                             [33017.9949],\n",
      "                             [26654.8203]]}]}\n"
     ]
    }
   ],
   "source": [
    "job_details = wml_client.deployments.score(pyfunc_deployment_id, scoring_payload)\n",
    "pprint(job_details)"
   ]
  },
  {
   "cell_type": "markdown",
   "metadata": {
    "id": "46430c34e4764accb9ff89e6c56f6a20"
   },
   "source": [
    "### Make sure the records reached the payload logging table"
   ]
  },
  {
   "cell_type": "code",
   "execution_count": 64,
   "metadata": {
    "id": "9abbad2c17004787aec553734908d0e0"
   },
   "outputs": [
    {
     "name": "stdout",
     "output_type": "stream",
     "text": [
      "Number of records in the payload logging table: 100\n"
     ]
    }
   ],
   "source": [
    "import uuid\n",
    "from ibm_watson_openscale.supporting_classes.payload_record import PayloadRecord\n",
    "time.sleep(5)\n",
    "pl_records_count = wos_client.data_sets.get_records_count(payload_data_set_id)\n",
    "print(\"Number of records in the payload logging table: {}\".format(pl_records_count))\n",
    "if pl_records_count == 0:\n",
    "    raise Exception(\"Payload logging did not happen!\")"
   ]
  },
  {
   "cell_type": "markdown",
   "metadata": {
    "id": "dbc9d37346b04b42b2c7f7e2fd2845b7"
   },
   "source": [
    "## Utility - get monitoring instance, as needed"
   ]
  },
  {
   "cell_type": "code",
   "execution_count": 65,
   "metadata": {},
   "outputs": [],
   "source": [
    "def get_monitor_instance(monitor_definition_id='explainability'):\n",
    "    monitor_instance = wos_client.monitor_instances.list(\n",
    "        data_mart_id=data_mart_id, target_target_id=subscription_id, monitor_definition_id=monitor_definition_id\n",
    "     )\n",
    "    monitor_instances_info = monitor_instance.result\n",
    "    print(monitor_instances_info)\n",
    "    return monitor_instances_info"
   ]
  },
  {
   "cell_type": "code",
   "execution_count": null,
   "metadata": {},
   "outputs": [],
   "source": [
    "monitor_instances_info = get_monitor_instance(monitor_definition_id='drift_v2')\n",
    "monitor_instances_info"
   ]
  },
  {
   "cell_type": "markdown",
   "metadata": {},
   "source": [
    "## Utility - Cleanup existing monitoring instance, as needed"
   ]
  },
  {
   "cell_type": "code",
   "execution_count": 67,
   "metadata": {},
   "outputs": [],
   "source": [
    "def cleanup_monitor_instance(monitor_definition_id='explainability'):\n",
    "    monitor_instances_info = get_monitor_instance(monitor_definition_id)\n",
    "\n",
    "    if monitor_instances_info is not None and len(monitor_instances_info.monitor_instances) !=0 :\n",
    "        monitor_instances_id = monitor_instances_info.monitor_instances[0].metadata.id\n",
    "        wos_client.monitor_instances.delete(\n",
    "                monitor_instance_id=monitor_instances_id\n",
    "             )    "
   ]
  },
  {
   "cell_type": "code",
   "execution_count": 68,
   "metadata": {},
   "outputs": [],
   "source": [
    "#cleanup_monitor_instance(monitor_definition_id='drift_v2')"
   ]
  },
  {
   "cell_type": "markdown",
   "metadata": {},
   "source": [
    "# Drift V2 Configuration"
   ]
  },
  {
   "cell_type": "code",
   "execution_count": 69,
   "metadata": {},
   "outputs": [
    {
     "name": "stdout",
     "output_type": "stream",
     "text": [
      "\n",
      "\n",
      "===================================================================================\n",
      "\n",
      " Waiting for end of monitor instance creation b7632393-7167-4824-9e1e-413303606381 \n",
      "\n",
      "===================================================================================\n",
      "\n",
      "\n",
      "\n",
      "preparing.......................\n",
      "active\n",
      "\n",
      "---------------------------------------\n",
      " Monitor instance successfully created \n",
      "---------------------------------------\n",
      "\n",
      "\n"
     ]
    },
    {
     "data": {
      "text/plain": [
       "'b7632393-7167-4824-9e1e-413303606381'"
      ]
     },
     "execution_count": 69,
     "metadata": {},
     "output_type": "execute_result"
    }
   ],
   "source": [
    "target = Target(\n",
    "    target_type=TargetTypes.SUBSCRIPTION,\n",
    "    target_id=subscription_id\n",
    ")\n",
    "\n",
    "parameters = {\n",
    "        \"min_samples\": 10,\n",
    "        \"max_samples\": 1000,\n",
    "        \"train_archive\": True,\n",
    "        \"features\": {\n",
    "            \"fields\": feature_columns,\n",
    "            \"importances\": {}\n",
    "        },\n",
    "        \"most_important_features\": {\n",
    "            \"fields\": feature_columns\n",
    "        }\n",
    "    }\n",
    "drift_v2_monitor_details = wos_client.monitor_instances.create(\n",
    "    data_mart_id=data_mart_id,\n",
    "    monitor_definition_id=wos_client.monitor_definitions.MONITORS.DRIFT_V2.ID,\n",
    "    target=target,\n",
    "    background_mode=False,\n",
    "    parameters=parameters\n",
    ").result\n",
    "\n",
    "drift_v2_monitor_instance_id = drift_v2_monitor_details.metadata.id\n",
    "drift_v2_monitor_instance_id"
   ]
  },
  {
   "cell_type": "markdown",
   "metadata": {},
   "source": [
    "# Run Drift V2 monitor"
   ]
  },
  {
   "cell_type": "code",
   "execution_count": 70,
   "metadata": {},
   "outputs": [
    {
     "name": "stdout",
     "output_type": "stream",
     "text": [
      "\n",
      "\n",
      "========================================================================\n",
      "\n",
      " Waiting for end of monitoring run 70a2f4e2-06a7-4848-9b17-c12fa6597530 \n",
      "\n",
      "========================================================================\n",
      "\n",
      "\n",
      "\n",
      "running....................................\n",
      "finished\n",
      "\n",
      "---------------------------\n",
      " Successfully finished run \n",
      "---------------------------\n",
      "\n",
      "\n"
     ]
    }
   ],
   "source": [
    "drift_v2_run_details = wos_client.monitor_instances.run(monitor_instance_id=drift_v2_monitor_instance_id, background_mode=False)"
   ]
  },
  {
   "cell_type": "code",
   "execution_count": 71,
   "metadata": {},
   "outputs": [
    {
     "data": {
      "text/html": [
       "<HTML>\n",
       "        <body>\n",
       "            <h3>b7632393-7167-4824-9e1e-413303606381 Monitor Runs Metrics from: 2024-06-25 06:41:37.947472  till: 2024-07-02 06:41:37.947506</h3>\n",
       "            <table style='border: 1px solid #dddddd; font-family: Courier'>\n",
       "                <th style='border: 1px solid #dddddd'>ts</th><th style='border: 1px solid #dddddd'>id</th><th style='border: 1px solid #dddddd'>measurement_id</th><th style='border: 1px solid #dddddd'>value</th><th style='border: 1px solid #dddddd'>lower_limit</th><th style='border: 1px solid #dddddd'>upper_limit</th><th style='border: 1px solid #dddddd'>tags</th><th style='border: 1px solid #dddddd'>monitor_definition_id</th><th style='border: 1px solid #dddddd'>monitor_instance_id</th><th style='border: 1px solid #dddddd'>run_id</th><th style='border: 1px solid #dddddd'>target_type</th><th style='border: 1px solid #dddddd'>target_id</th>\n",
       "                \n",
       "            </table>\n",
       "        </body>\n",
       "        </HTML>"
      ],
      "text/plain": [
       "<IPython.core.display.HTML object>"
      ]
     },
     "metadata": {},
     "output_type": "display_data"
    }
   ],
   "source": [
    "time.sleep(5)\n",
    "wos_client.monitor_instances.show_metrics(monitor_instance_id=drift_v2_monitor_instance_id)"
   ]
  },
  {
   "cell_type": "markdown",
   "metadata": {},
   "source": [
    "# Configure Explainability"
   ]
  },
  {
   "cell_type": "markdown",
   "metadata": {},
   "source": [
    "Provide the following explainability configuration to enable SHAP global explanation. Set global_explanation enabled False if SHAP global explanation is not required or if you are trying to use headless subscription ie., subscription which is configured without a REST endpoint for scoring needs.\n",
    "\n",
    "* global_explanation: The global explanation parameters.\n",
    "     * enabled: Enable the global explanation. SHAP explanation also should be enabled when global explanation is enabled.\n",
    "     * sample_size: The sample size of the records to be considered for computing global explanation in the payload window.\n",
    "* shap: The shap explanation parameters\n",
    "     * enabled: Enable the shap explanation\n",
    "     * perturbations_count: The no of perturbations created when generating a local explanation\n",
    "* local_explanation_method: The default local explanation method to be used when generating local explanation. Possible values are \"shap\" and \"lime\""
   ]
  },
  {
   "cell_type": "code",
   "execution_count": 108,
   "metadata": {},
   "outputs": [],
   "source": [
    "# cleanup_monitor_instance(monitor_definition_id='explainability')"
   ]
  },
  {
   "cell_type": "code",
   "execution_count": 109,
   "metadata": {
    "id": "194a48fa5f7f45e698b86ae1fb232480"
   },
   "outputs": [
    {
     "name": "stdout",
     "output_type": "stream",
     "text": [
      "\n",
      "\n",
      "===================================================================================\n",
      "\n",
      " Waiting for end of monitor instance creation c2fd6f49-48de-476f-b388-df1297c99d3e \n",
      "\n",
      "===================================================================================\n",
      "\n",
      "\n",
      "\n",
      "preparing....................\n",
      "active\n",
      "\n",
      "---------------------------------------\n",
      " Monitor instance successfully created \n",
      "---------------------------------------\n",
      "\n",
      "\n"
     ]
    }
   ],
   "source": [
    "target = Target(\n",
    "    target_type=TargetTypes.SUBSCRIPTION,\n",
    "    target_id=subscription_id\n",
    ")\n",
    "\n",
    "parameters = {\n",
    "    \"enabled\": True,\n",
    "    \"global_explanation\": {\n",
    "        \"enabled\": True,\n",
    "        \"sample_size\": 50 # the sample size of the records to be considered for computing training and payload global explanation\n",
    "    },\n",
    "    \"local_explanation_method\": \"shap\", # or lime. The default explanation to be generated when running the local explanation.\n",
    "    \"shap\": {\n",
    "        \"enabled\": True,\n",
    "        \"perturbations_count\": 0 # 0 means auto determine, If not provide a positive integer value below 2500\n",
    "    }    \n",
    "}\n",
    "\n",
    "thresholds = [MetricThresholdOverride(metric_id=wos_client.monitor_definitions.MONITORS.EXPLAINABILITY.METRIC.GLOBAL_EXPLANATION_STABILITY,\n",
    "                                      type=MetricThresholdTypes.LOWER_LIMIT,\n",
    "                                      value=0.8)]\n",
    "\n",
    "explainability_details = wos_client.monitor_instances.create(\n",
    "    data_mart_id=data_mart_id,\n",
    "    background_mode=False,\n",
    "    monitor_definition_id=wos_client.monitor_definitions.MONITORS.EXPLAINABILITY.ID,\n",
    "    target=target,\n",
    "    parameters=parameters,\n",
    "    thresholds=thresholds\n",
    ").result\n",
    "\n",
    "explainability_monitor_id = explainability_details.metadata.id"
   ]
  },
  {
   "cell_type": "markdown",
   "metadata": {
    "id": "655a052a854349cf983378ccc03f7571"
   },
   "source": [
    "## Run local explanation for sample record"
   ]
  },
  {
   "cell_type": "code",
   "execution_count": 111,
   "metadata": {
    "id": "e63c9ee4d9904b5d9b7550341a531db8"
   },
   "outputs": [
    {
     "data": {
      "text/plain": [
       "['a4477f9f-1fb5-4c93-b64c-c9e3745ee9f2']"
      ]
     },
     "execution_count": 111,
     "metadata": {},
     "output_type": "execute_result"
    }
   ],
   "source": [
    "payload_data = wos_client.data_sets.get_list_of_records(data_set_id=payload_data_set_id,output_type='pandas').result\n",
    "explanation_types = [\"lime\"]\n",
    "\n",
    "scoring_ids = payload_data.head(1)['scoring_id'].tolist()\n",
    "result = wos_client.monitor_instances.explanation_tasks(scoring_ids=scoring_ids, explanation_types=explanation_types, subscription_id=subscription_id).result\n",
    "\n",
    "explanation_task_ids=result.metadata.explanation_task_ids\n",
    "explanation_task_ids"
   ]
  },
  {
   "cell_type": "markdown",
   "metadata": {
    "id": "623b05a19be04c82a99ba009f4c99279"
   },
   "source": [
    "### Utiility to wait for the explain task to complete"
   ]
  },
  {
   "cell_type": "code",
   "execution_count": 112,
   "metadata": {
    "id": "0cf4ebeac97948d180779a8d8126169a"
   },
   "outputs": [],
   "source": [
    "def finish_explanation_tasks(sample_size = 1):\n",
    "    finished_explanations = []\n",
    "    finished_explanation_task_ids = []\n",
    "    \n",
    "    # Check for the explanation task status for finished status. \n",
    "    # If it is in-progress state, then sleep for some time and check again. \n",
    "    # Perform the same for couple of times, so that all tasks get into finished state.\n",
    "    for i in range(0, 5):\n",
    "        # for each explanation\n",
    "        print('iteration ' + str(i))\n",
    "        \n",
    "        #check status for all explanation tasks\n",
    "        for explanation_task_id in explanation_task_ids:\n",
    "            if explanation_task_id not in finished_explanation_task_ids:\n",
    "                result = wos_client.monitor_instances.get_explanation_tasks(explanation_task_id=explanation_task_id, subscription_id=subscription_id ).result\n",
    "                print(explanation_task_id + ' : ' + result.entity.status.state)\n",
    "                if (result.entity.status.state == 'finished' or result.entity.status.state == 'error') and explanation_task_id not in finished_explanation_task_ids:\n",
    "                    finished_explanation_task_ids.append(explanation_task_id)\n",
    "                    finished_explanations.append(result)\n",
    "\n",
    "\n",
    "        # if there is altest one explanation task that is not yet completed, then sleep for sometime, \n",
    "        # and check for all those tasks, for which explanation is not yet completeed.\n",
    "        \n",
    "        if len(finished_explanation_task_ids) != sample_size:\n",
    "            print('sleeping for some time..')\n",
    "            time.sleep(10)\n",
    "        else:\n",
    "            break\n",
    "                    \n",
    "    return finished_explanations"
   ]
  },
  {
   "cell_type": "markdown",
   "metadata": {
    "id": "55f52f55fafc4c008b91527abdf5831c"
   },
   "source": [
    "### Check whether the explain task finished or not"
   ]
  },
  {
   "cell_type": "code",
   "execution_count": 113,
   "metadata": {
    "id": "efe752043eed414eb60394d7e9944d00"
   },
   "outputs": [
    {
     "name": "stdout",
     "output_type": "stream",
     "text": [
      "iteration 0\n",
      "a4477f9f-1fb5-4c93-b64c-c9e3745ee9f2 : finished\n"
     ]
    }
   ],
   "source": [
    "finished_explanations = finish_explanation_tasks(1)"
   ]
  },
  {
   "cell_type": "markdown",
   "metadata": {
    "id": "ea1d1e48dbaf4a788bed8ed00990198d"
   },
   "source": [
    "## Print the explain evaluation output"
   ]
  },
  {
   "cell_type": "code",
   "execution_count": null,
   "metadata": {
    "id": "d0c2d344f98b49b39f1c7f8136896099"
   },
   "outputs": [],
   "source": [
    "for result in finished_explanations:\n",
    "    print(result)"
   ]
  },
  {
   "cell_type": "markdown",
   "metadata": {},
   "source": [
    "## Run explainability monitor (global explanation)"
   ]
  },
  {
   "cell_type": "markdown",
   "metadata": {},
   "source": [
    "Kick off an explainability monitor run on existing payload data. The monitor run is scheduled to run every week, but can also be triggered manually using the Python client or the API. The monitor run computes global explanation on the sample payload records and publishes global_explanation_stability metric."
   ]
  },
  {
   "cell_type": "code",
   "execution_count": 116,
   "metadata": {},
   "outputs": [
    {
     "name": "stdout",
     "output_type": "stream",
     "text": [
      "\n",
      "\n",
      "========================================================================\n",
      "\n",
      " Waiting for end of monitoring run 994199e9-aed9-478c-83b2-e6fd2ebfdc28 \n",
      "\n",
      "========================================================================\n",
      "\n",
      "\n",
      "\n",
      "running.......\n",
      "finished\n",
      "\n",
      "---------------------------\n",
      " Successfully finished run \n",
      "---------------------------\n",
      "\n",
      "\n"
     ]
    }
   ],
   "source": [
    "explainability_run_details = wos_client.monitor_instances.run(monitor_instance_id=explainability_monitor_id, background_mode=False)"
   ]
  },
  {
   "cell_type": "code",
   "execution_count": 118,
   "metadata": {},
   "outputs": [
    {
     "data": {
      "text/html": [
       "<HTML>\n",
       "        <body>\n",
       "            <h3>c2fd6f49-48de-476f-b388-df1297c99d3e Monitor Runs Metrics from: 2024-06-25 07:45:23.850403  till: 2024-07-02 07:45:23.850428</h3>\n",
       "            <table style='border: 1px solid #dddddd; font-family: Courier'>\n",
       "                <th style='border: 1px solid #dddddd'>ts</th><th style='border: 1px solid #dddddd'>id</th><th style='border: 1px solid #dddddd'>measurement_id</th><th style='border: 1px solid #dddddd'>value</th><th style='border: 1px solid #dddddd'>lower_limit</th><th style='border: 1px solid #dddddd'>upper_limit</th><th style='border: 1px solid #dddddd'>tags</th><th style='border: 1px solid #dddddd'>monitor_definition_id</th><th style='border: 1px solid #dddddd'>monitor_instance_id</th><th style='border: 1px solid #dddddd'>run_id</th><th style='border: 1px solid #dddddd'>target_type</th><th style='border: 1px solid #dddddd'>target_id</th>\n",
       "                \n",
       "            </table>\n",
       "        </body>\n",
       "        </HTML>"
      ],
      "text/plain": [
       "<IPython.core.display.HTML object>"
      ]
     },
     "metadata": {},
     "output_type": "display_data"
    }
   ],
   "source": [
    "time.sleep(5)\n",
    "wos_client.monitor_instances.show_metrics(monitor_instance_id=explainability_monitor_id)"
   ]
  },
  {
   "cell_type": "markdown",
   "metadata": {
    "id": "28e9291e42d3422fa0a7460d3728299c"
   },
   "source": [
    "# Configure Quality Monitoring"
   ]
  },
  {
   "cell_type": "code",
   "execution_count": 79,
   "metadata": {
    "id": "f605b0405c60416bb16ff8b8167a0e18"
   },
   "outputs": [
    {
     "name": "stdout",
     "output_type": "stream",
     "text": [
      "\n",
      "\n",
      "===================================================================================\n",
      "\n",
      " Waiting for end of monitor instance creation 5423f7bd-6dc2-4279-aea4-1b41487b96be \n",
      "\n",
      "===================================================================================\n",
      "\n",
      "\n",
      "\n",
      "preparing\n",
      "active\n",
      "\n",
      "---------------------------------------\n",
      " Monitor instance successfully created \n",
      "---------------------------------------\n",
      "\n",
      "\n"
     ]
    }
   ],
   "source": [
    "import time\n",
    "\n",
    "time.sleep(10)\n",
    "target = Target(\n",
    "        target_type=TargetTypes.SUBSCRIPTION,\n",
    "        target_id=subscription_id\n",
    ")\n",
    "parameters = {\n",
    "    \"min_feedback_data_size\": 50\n",
    "}\n",
    "quality_monitor_details = wos_client.monitor_instances.create(\n",
    "    data_mart_id=data_mart_id,\n",
    "    background_mode=False,\n",
    "    monitor_definition_id=wos_client.monitor_definitions.MONITORS.QUALITY.ID,\n",
    "    target=target,\n",
    "    parameters=parameters\n",
    ").result"
   ]
  },
  {
   "cell_type": "markdown",
   "metadata": {
    "id": "a6e2c1bbc91e400585d15461dc1313f5"
   },
   "source": [
    "## Get the quality monitor instance id and the feedback data set id"
   ]
  },
  {
   "cell_type": "code",
   "execution_count": 80,
   "metadata": {
    "id": "ee879b1decf14f298e375430a7f9b7ac"
   },
   "outputs": [
    {
     "data": {
      "text/plain": [
       "'5423f7bd-6dc2-4279-aea4-1b41487b96be'"
      ]
     },
     "execution_count": 80,
     "metadata": {},
     "output_type": "execute_result"
    }
   ],
   "source": [
    "quality_monitor_instance_id = quality_monitor_details.metadata.id\n",
    "quality_monitor_instance_id"
   ]
  },
  {
   "cell_type": "code",
   "execution_count": null,
   "metadata": {
    "id": "bcce22834b3c404e9d45f004505e2afc"
   },
   "outputs": [],
   "source": [
    "feedback_dataset_id = None\n",
    "feedback_dataset = wos_client.data_sets.list(type=DataSetTypes.FEEDBACK, \n",
    "                                                target_target_id=subscription_id, \n",
    "                                                target_target_type=TargetTypes.SUBSCRIPTION).result\n",
    "print(feedback_dataset)\n",
    "feedback_dataset_id = feedback_dataset.data_sets[0].metadata.id\n",
    "if feedback_dataset_id is None:\n",
    "    print(\"Feedback data set not found. Please check quality monitor status.\")"
   ]
  },
  {
   "cell_type": "code",
   "execution_count": 82,
   "metadata": {
    "id": "27b532fb60514fb6855ce878ff4b0c14"
   },
   "outputs": [
    {
     "data": {
      "text/plain": [
       "'01151cda-9ffe-4be2-90fa-dc8d04d1a94f'"
      ]
     },
     "execution_count": 82,
     "metadata": {},
     "output_type": "execute_result"
    }
   ],
   "source": [
    "feedback_dataset_id"
   ]
  },
  {
   "cell_type": "markdown",
   "metadata": {
    "id": "441bd35d1a634329a495aea403a218db"
   },
   "source": [
    "## Perform feedback logging"
   ]
  },
  {
   "cell_type": "code",
   "execution_count": 83,
   "metadata": {
    "id": "b617f6a3c3b64399a57c9b6a03b63b28"
   },
   "outputs": [],
   "source": [
    "import pandas as pd\n",
    "df = pd.read_csv(\"insurance.csv\", sep=\",\", header=0)"
   ]
  },
  {
   "cell_type": "code",
   "execution_count": 84,
   "metadata": {
    "id": "fa3cd7e2bcd1451280eae7a7f0f4c74f"
   },
   "outputs": [
    {
     "data": {
      "text/html": [
       "<div>\n",
       "<style scoped>\n",
       "    .dataframe tbody tr th:only-of-type {\n",
       "        vertical-align: middle;\n",
       "    }\n",
       "\n",
       "    .dataframe tbody tr th {\n",
       "        vertical-align: top;\n",
       "    }\n",
       "\n",
       "    .dataframe thead th {\n",
       "        text-align: right;\n",
       "    }\n",
       "</style>\n",
       "<table border=\"1\" class=\"dataframe\">\n",
       "  <thead>\n",
       "    <tr style=\"text-align: right;\">\n",
       "      <th></th>\n",
       "      <th>age</th>\n",
       "      <th>sex</th>\n",
       "      <th>bmi</th>\n",
       "      <th>children</th>\n",
       "      <th>smoker</th>\n",
       "      <th>region</th>\n",
       "      <th>charges</th>\n",
       "    </tr>\n",
       "  </thead>\n",
       "  <tbody>\n",
       "    <tr>\n",
       "      <th>0</th>\n",
       "      <td>19</td>\n",
       "      <td>female</td>\n",
       "      <td>27.900</td>\n",
       "      <td>0</td>\n",
       "      <td>SMOKER</td>\n",
       "      <td>southwest</td>\n",
       "      <td>16884.92400</td>\n",
       "    </tr>\n",
       "    <tr>\n",
       "      <th>1</th>\n",
       "      <td>18</td>\n",
       "      <td>male</td>\n",
       "      <td>33.770</td>\n",
       "      <td>1</td>\n",
       "      <td>NON_SMOKER</td>\n",
       "      <td>southeast</td>\n",
       "      <td>1725.55230</td>\n",
       "    </tr>\n",
       "    <tr>\n",
       "      <th>2</th>\n",
       "      <td>28</td>\n",
       "      <td>male</td>\n",
       "      <td>33.000</td>\n",
       "      <td>3</td>\n",
       "      <td>NON_SMOKER</td>\n",
       "      <td>southeast</td>\n",
       "      <td>4449.46200</td>\n",
       "    </tr>\n",
       "    <tr>\n",
       "      <th>3</th>\n",
       "      <td>33</td>\n",
       "      <td>male</td>\n",
       "      <td>22.705</td>\n",
       "      <td>0</td>\n",
       "      <td>NON_SMOKER</td>\n",
       "      <td>northwest</td>\n",
       "      <td>21984.47061</td>\n",
       "    </tr>\n",
       "    <tr>\n",
       "      <th>4</th>\n",
       "      <td>32</td>\n",
       "      <td>male</td>\n",
       "      <td>28.880</td>\n",
       "      <td>0</td>\n",
       "      <td>NON_SMOKER</td>\n",
       "      <td>northwest</td>\n",
       "      <td>3866.85520</td>\n",
       "    </tr>\n",
       "  </tbody>\n",
       "</table>\n",
       "</div>"
      ],
      "text/plain": [
       "   age     sex     bmi  children      smoker     region      charges\n",
       "0   19  female  27.900         0      SMOKER  southwest  16884.92400\n",
       "1   18    male  33.770         1  NON_SMOKER  southeast   1725.55230\n",
       "2   28    male  33.000         3  NON_SMOKER  southeast   4449.46200\n",
       "3   33    male  22.705         0  NON_SMOKER  northwest  21984.47061\n",
       "4   32    male  28.880         0  NON_SMOKER  northwest   3866.85520"
      ]
     },
     "execution_count": 84,
     "metadata": {},
     "output_type": "execute_result"
    }
   ],
   "source": [
    "df.head()"
   ]
  },
  {
   "cell_type": "code",
   "execution_count": 85,
   "metadata": {},
   "outputs": [],
   "source": [
    "feedback_data = df.sample(n=100)"
   ]
  },
  {
   "cell_type": "code",
   "execution_count": 86,
   "metadata": {
    "id": "721cedeb314b4a788cf7b46524b36c82"
   },
   "outputs": [],
   "source": [
    "cols_to_remove = []\n",
    "def get_feedback_payload():\n",
    "    for col in cols_to_remove:\n",
    "        if col in feedback_data.columns:\n",
    "            del feedback_data[col]\n",
    "\n",
    "    fields = feedback_data.columns.tolist()\n",
    "    values = feedback_data[fields].values.tolist()\n",
    "\n",
    "    feedback_payload = {\"fields\": fields, \"values\": values}\n",
    "    return feedback_payload"
   ]
  },
  {
   "cell_type": "code",
   "execution_count": 87,
   "metadata": {
    "id": "35808251a6cd4960a3910c4197e64b61"
   },
   "outputs": [],
   "source": [
    "feedback_payload = get_feedback_payload()"
   ]
  },
  {
   "cell_type": "code",
   "execution_count": null,
   "metadata": {
    "id": "4b91f8daccf04df989f5215dac060bb3"
   },
   "outputs": [],
   "source": [
    "feedback_payload"
   ]
  },
  {
   "cell_type": "code",
   "execution_count": 89,
   "metadata": {},
   "outputs": [],
   "source": [
    "# get access token\n",
    "def generate_access_token():\n",
    "    import urllib3, requests, json\n",
    "    headers = {\n",
    "        'Content-type': 'application/json'\n",
    "    }\n",
    "    payload = {\n",
    "        'username': WML_CREDENTIALS[\"username\"],\n",
    "        'api_key': WML_CREDENTIALS[\"apikey\"]\n",
    "    }\n",
    "    ICP_TOKEN_URL = '{}/icp4d-api/v1/authorize'.format(WML_CREDENTIALS[\"url\"])\n",
    "\n",
    "    response = requests.post(ICP_TOKEN_URL, headers=headers, json=payload, verify=False)\n",
    "    json_data = response.json()\n",
    "    icp_access_token = json_data['token']\n",
    "    return icp_access_token  "
   ]
  },
  {
   "cell_type": "code",
   "execution_count": 90,
   "metadata": {
    "id": "9f5f7a1f5bd74054847990d0aa28b142"
   },
   "outputs": [],
   "source": [
    "token = generate_access_token()"
   ]
  },
  {
   "cell_type": "code",
   "execution_count": 91,
   "metadata": {
    "id": "da5b9dfb25744e4bb0ecd5d42a040f5a"
   },
   "outputs": [],
   "source": [
    "headers = {}\n",
    "headers[\"Content-Type\"] = \"application/json\"\n",
    "headers[\"Authorization\"] = \"Bearer {}\".format(token)"
   ]
  },
  {
   "cell_type": "code",
   "execution_count": 92,
   "metadata": {
    "id": "90acdebd61d5428396cccf0435b5d105"
   },
   "outputs": [],
   "source": [
    "url=WOS_CREDENTIALS['url']"
   ]
  },
  {
   "cell_type": "markdown",
   "metadata": {
    "id": "8d546030b8eb41a6afa327ccbdb5875c"
   },
   "source": [
    "### Load the feedback data"
   ]
  },
  {
   "cell_type": "code",
   "execution_count": 120,
   "metadata": {
    "id": "9e356800b1674136879dd83704be3f55"
   },
   "outputs": [
    {
     "name": "stdout",
     "output_type": "stream",
     "text": [
      "{'state': 'preparing'}\n"
     ]
    }
   ],
   "source": [
    "import urllib3, requests, json\n",
    "\n",
    "DATASETS_STORE_RECORDS_URL =  url + \"/openscale/{0}/v2/data_sets/{1}/records\".format(data_mart_id, feedback_dataset_id)\n",
    "response = requests.post(DATASETS_STORE_RECORDS_URL, json=feedback_payload, headers=headers, verify=False)\n",
    "json_data = response.json()\n",
    "print(json_data)"
   ]
  },
  {
   "cell_type": "code",
   "execution_count": 121,
   "metadata": {
    "id": "4a323a90a22b441c86dbfbf5cd51ef1b"
   },
   "outputs": [
    {
     "data": {
      "text/plain": [
       "200"
      ]
     },
     "execution_count": 121,
     "metadata": {},
     "output_type": "execute_result"
    }
   ],
   "source": [
    "import time\n",
    "time.sleep(5)\n",
    "wos_client.data_sets.get_records_count(data_set_id=feedback_dataset_id)"
   ]
  },
  {
   "cell_type": "markdown",
   "metadata": {
    "id": "0c714eba1eae466d92e854a66788ab80"
   },
   "source": [
    "## Trigger the quality monitor"
   ]
  },
  {
   "cell_type": "code",
   "execution_count": 95,
   "metadata": {
    "id": "555cdb2849a349f1ae2f3745deb47b7d"
   },
   "outputs": [
    {
     "name": "stdout",
     "output_type": "stream",
     "text": [
      "\n",
      "\n",
      "========================================================================\n",
      "\n",
      " Waiting for end of monitoring run 48becad9-eacd-4467-943f-8369db2efb53 \n",
      "\n",
      "========================================================================\n",
      "\n",
      "\n",
      "\n",
      "running\n",
      "finished\n",
      "\n",
      "---------------------------\n",
      " Successfully finished run \n",
      "---------------------------\n",
      "\n",
      "\n"
     ]
    }
   ],
   "source": [
    "run_details = wos_client.monitor_instances.run(monitor_instance_id=quality_monitor_instance_id, background_mode=False).result"
   ]
  },
  {
   "cell_type": "markdown",
   "metadata": {
    "id": "60f9162f30574164b3a227244bb99687"
   },
   "source": [
    "### Fetch the quality monitor evaluated metrics"
   ]
  },
  {
   "cell_type": "code",
   "execution_count": 96,
   "metadata": {
    "id": "6b71dd9d11c94ba5807a896e2c21acde"
   },
   "outputs": [
    {
     "data": {
      "text/html": [
       "<HTML>\n",
       "        <body>\n",
       "            <h3>5423f7bd-6dc2-4279-aea4-1b41487b96be Monitor Runs Metrics from: 2024-06-25 06:44:00.458129  till: 2024-07-02 06:44:00.458139</h3>\n",
       "            <table style='border: 1px solid #dddddd; font-family: Courier'>\n",
       "                <th style='border: 1px solid #dddddd'>ts</th><th style='border: 1px solid #dddddd'>id</th><th style='border: 1px solid #dddddd'>measurement_id</th><th style='border: 1px solid #dddddd'>value</th><th style='border: 1px solid #dddddd'>lower_limit</th><th style='border: 1px solid #dddddd'>upper_limit</th><th style='border: 1px solid #dddddd'>tags</th><th style='border: 1px solid #dddddd'>monitor_definition_id</th><th style='border: 1px solid #dddddd'>monitor_instance_id</th><th style='border: 1px solid #dddddd'>run_id</th><th style='border: 1px solid #dddddd'>target_type</th><th style='border: 1px solid #dddddd'>target_id</th>\n",
       "                \n",
       "            </table>\n",
       "        </body>\n",
       "        </HTML>"
      ],
      "text/plain": [
       "<IPython.core.display.HTML object>"
      ]
     },
     "metadata": {},
     "output_type": "display_data"
    }
   ],
   "source": [
    "wos_client.monitor_instances.show_metrics(monitor_instance_id=quality_monitor_instance_id)"
   ]
  },
  {
   "cell_type": "markdown",
   "metadata": {
    "id": "473cf3af15a745db8b1d9af19826b8ff"
   },
   "source": [
    "# Fairness Monitor Configuration"
   ]
  },
  {
   "cell_type": "code",
   "execution_count": 97,
   "metadata": {},
   "outputs": [
    {
     "name": "stdout",
     "output_type": "stream",
     "text": [
      "{\n",
      "  \"monitor_instances\": []\n",
      "}\n"
     ]
    }
   ],
   "source": [
    "cleanup_monitor_instance(monitor_definition_id='fairness')"
   ]
  },
  {
   "cell_type": "code",
   "execution_count": 98,
   "metadata": {
    "id": "848bd9bea17b433aafbda25e1830755b"
   },
   "outputs": [
    {
     "name": "stdout",
     "output_type": "stream",
     "text": [
      "\n",
      "\n",
      "===================================================================================\n",
      "\n",
      " Waiting for end of monitor instance creation 185d690b-58e3-439b-b957-1d4578fd5d64 \n",
      "\n",
      "===================================================================================\n",
      "\n",
      "\n",
      "\n",
      "active\n",
      "\n",
      "---------------------------------------\n",
      " Monitor instance successfully created \n",
      "---------------------------------------\n",
      "\n",
      "\n"
     ]
    }
   ],
   "source": [
    "target = Target(\n",
    "    target_type=TargetTypes.SUBSCRIPTION,\n",
    "    target_id=subscription_id\n",
    "\n",
    ")\n",
    "parameters = {\n",
    "    \"features\": [\n",
    "        {\"feature\": \"sex\",\n",
    "         \"majority\": ['male'],\n",
    "         \"minority\": ['female']\n",
    "         }\n",
    "    ],\n",
    "    \"favourable_class\": [[10000,64000]],\n",
    "    \"unfavourable_class\": [[1120,9999]],\n",
    "    \"min_records\": 100\n",
    "}\n",
    "thresholds = [{\n",
    "    \"metric_id\": \"fairness_value\",\n",
    "    \"specific_values\": [\n",
    "        {\n",
    "            \"applies_to\": [{\n",
    "                \"key\": \"feature\",\n",
    "                \"type\": \"tag\",\n",
    "                \"value\": \"sex\"\n",
    "            }],\n",
    "            \"value\": 98\n",
    "        }\n",
    "    ],\n",
    "    \"type\": \"lower_limit\",\n",
    "    \"value\": 95.0\n",
    "}]\n",
    "\n",
    "fairness_monitor_details = wos_client.monitor_instances.create(\n",
    "    data_mart_id=data_mart_id,\n",
    "    background_mode=False,\n",
    "    monitor_definition_id=wos_client.monitor_definitions.MONITORS.FAIRNESS.ID,\n",
    "    target=target,\n",
    "    parameters=parameters,\n",
    "    thresholds=thresholds).result"
   ]
  },
  {
   "cell_type": "code",
   "execution_count": 99,
   "metadata": {
    "id": "1b4423c0603e4a2b978fa61828ad4bc9"
   },
   "outputs": [],
   "source": [
    "fairness_monitor_instance_id = fairness_monitor_details.metadata.id"
   ]
  },
  {
   "cell_type": "markdown",
   "metadata": {
    "id": "183cbadccc72450d8a18d39d61baa666"
   },
   "source": [
    "## Check, or otherwise wait, for the fairness monitor evaluation to complete"
   ]
  },
  {
   "cell_type": "code",
   "execution_count": 100,
   "metadata": {
    "id": "eaabaf7a784d412997680dce7819143c"
   },
   "outputs": [
    {
     "name": "stdout",
     "output_type": "stream",
     "text": [
      "run_status:  running\n",
      "run_status:  finished\n"
     ]
    }
   ],
   "source": [
    "runs = wos_client.monitor_instances.list_runs(fairness_monitor_instance_id, limit=1).result.to_dict()\n",
    "fairness_monitoring_run_id = runs[\"runs\"][0][\"metadata\"][\"id\"]\n",
    "run_status = None\n",
    "while(run_status not in [\"finished\", \"error\"]):\n",
    "    run_details = wos_client.monitor_instances.get_run_details(fairness_monitor_instance_id, fairness_monitoring_run_id).result.to_dict()\n",
    "    run_status = run_details[\"entity\"][\"status\"][\"state\"]\n",
    "    print('run_status: ', run_status)\n",
    "    if run_status in [\"finished\", \"error\"]:\n",
    "        break\n",
    "    time.sleep(10)"
   ]
  },
  {
   "cell_type": "code",
   "execution_count": null,
   "metadata": {
    "id": "c278dfe9d4e34eda83b6e420c71110ad"
   },
   "outputs": [],
   "source": [
    "wos_client.monitor_instances.get_run_details(fairness_monitor_instance_id, fairness_monitoring_run_id).result.to_dict()"
   ]
  },
  {
   "cell_type": "markdown",
   "metadata": {
    "id": "b9ebe4fccd95453080ddd96440fa7291"
   },
   "source": [
    "### Fetch the fairness monitor evaluation results"
   ]
  },
  {
   "cell_type": "code",
   "execution_count": 102,
   "metadata": {
    "id": "ee65d23afd544f0b937059a1c0c7b91d"
   },
   "outputs": [
    {
     "data": {
      "text/html": [
       "<HTML>\n",
       "        <body>\n",
       "            <h3>185d690b-58e3-439b-b957-1d4578fd5d64 Monitor Runs Metrics from: 2024-06-25 06:44:16.420628  till: 2024-07-02 06:44:16.420636</h3>\n",
       "            <table style='border: 1px solid #dddddd; font-family: Courier'>\n",
       "                <th style='border: 1px solid #dddddd'>ts</th><th style='border: 1px solid #dddddd'>id</th><th style='border: 1px solid #dddddd'>measurement_id</th><th style='border: 1px solid #dddddd'>value</th><th style='border: 1px solid #dddddd'>lower_limit</th><th style='border: 1px solid #dddddd'>upper_limit</th><th style='border: 1px solid #dddddd'>tags</th><th style='border: 1px solid #dddddd'>monitor_definition_id</th><th style='border: 1px solid #dddddd'>monitor_instance_id</th><th style='border: 1px solid #dddddd'>run_id</th><th style='border: 1px solid #dddddd'>target_type</th><th style='border: 1px solid #dddddd'>target_id</th>\n",
       "                \n",
       "            </table>\n",
       "        </body>\n",
       "        </HTML>"
      ],
      "text/plain": [
       "<IPython.core.display.HTML object>"
      ]
     },
     "metadata": {},
     "output_type": "display_data"
    }
   ],
   "source": [
    "wos_client.monitor_instances.show_metrics(monitor_instance_id=fairness_monitor_instance_id)"
   ]
  },
  {
   "cell_type": "markdown",
   "metadata": {
    "id": "7043ff3c61b44a7380adc78c3d562809"
   },
   "source": [
    "# Drift Monitor Configuration\n",
    "\n",
    "Note that, as this model is regression type, only data drift is enabled."
   ]
  },
  {
   "cell_type": "code",
   "execution_count": 103,
   "metadata": {
    "id": "3a4253469eaf4326949f0ff5c974ff1b"
   },
   "outputs": [
    {
     "name": "stdout",
     "output_type": "stream",
     "text": [
      "\n",
      "\n",
      "===================================================================================\n",
      "\n",
      " Waiting for end of monitor instance creation 5e595272-d973-4376-b943-c5a3dd6f8f37 \n",
      "\n",
      "===================================================================================\n",
      "\n",
      "\n",
      "\n",
      "active\n",
      "\n",
      "---------------------------------------\n",
      " Monitor instance successfully created \n",
      "---------------------------------------\n",
      "\n",
      "\n"
     ]
    },
    {
     "data": {
      "text/plain": [
       "'5e595272-d973-4376-b943-c5a3dd6f8f37'"
      ]
     },
     "execution_count": 103,
     "metadata": {},
     "output_type": "execute_result"
    }
   ],
   "source": [
    "target = Target(\n",
    "    target_type=TargetTypes.SUBSCRIPTION,\n",
    "    target_id=subscription_id\n",
    "\n",
    ")\n",
    "parameters = {\n",
    "    \"min_samples\": 100,\n",
    "    \"drift_threshold\": 0.1,\n",
    "    \"train_drift_model\": True,\n",
    "    \"enable_model_drift\": True,\n",
    "    \"enable_data_drift\": True\n",
    "}\n",
    "\n",
    "drift_monitor_details = wos_client.monitor_instances.create(\n",
    "    data_mart_id=data_mart_id,\n",
    "    background_mode=False,\n",
    "    monitor_definition_id=wos_client.monitor_definitions.MONITORS.DRIFT.ID,\n",
    "    target=target,\n",
    "    parameters=parameters\n",
    ").result\n",
    "\n",
    "drift_monitor_instance_id = drift_monitor_details.metadata.id\n",
    "drift_monitor_instance_id"
   ]
  },
  {
   "cell_type": "markdown",
   "metadata": {
    "id": "a81858b8b0934d078fe6f7adda6a5fde"
   },
   "source": [
    "## Trigger the drift monitoring run"
   ]
  },
  {
   "cell_type": "code",
   "execution_count": 104,
   "metadata": {
    "id": "cf353c42afe14cf6b8725e4f30a37e80"
   },
   "outputs": [
    {
     "name": "stdout",
     "output_type": "stream",
     "text": [
      "\n",
      "\n",
      "========================================================================\n",
      "\n",
      " Waiting for end of monitoring run d09a2705-0406-4f87-93eb-f6b53ea9df46 \n",
      "\n",
      "========================================================================\n",
      "\n",
      "\n",
      "\n",
      "finished\n",
      "\n",
      "---------------------------\n",
      " Successfully finished run \n",
      "---------------------------\n",
      "\n",
      "\n"
     ]
    }
   ],
   "source": [
    "drift_run_details = wos_client.monitor_instances.run(monitor_instance_id=drift_monitor_instance_id, background_mode=False)"
   ]
  },
  {
   "cell_type": "markdown",
   "metadata": {
    "id": "bc0feb9293774fd58326e09a218b4217"
   },
   "source": [
    "### Fetch the drift monitor evaluation results"
   ]
  },
  {
   "cell_type": "code",
   "execution_count": 105,
   "metadata": {
    "id": "5fdffc336be547619a80926a3ad4dc14"
   },
   "outputs": [
    {
     "data": {
      "text/html": [
       "<HTML>\n",
       "        <body>\n",
       "            <h3>5e595272-d973-4376-b943-c5a3dd6f8f37 Monitor Runs Metrics from: 2024-06-25 06:44:32.354989  till: 2024-07-02 06:44:32.355019</h3>\n",
       "            <table style='border: 1px solid #dddddd; font-family: Courier'>\n",
       "                <th style='border: 1px solid #dddddd'>ts</th><th style='border: 1px solid #dddddd'>id</th><th style='border: 1px solid #dddddd'>measurement_id</th><th style='border: 1px solid #dddddd'>value</th><th style='border: 1px solid #dddddd'>lower_limit</th><th style='border: 1px solid #dddddd'>upper_limit</th><th style='border: 1px solid #dddddd'>tags</th><th style='border: 1px solid #dddddd'>monitor_definition_id</th><th style='border: 1px solid #dddddd'>monitor_instance_id</th><th style='border: 1px solid #dddddd'>run_id</th><th style='border: 1px solid #dddddd'>target_type</th><th style='border: 1px solid #dddddd'>target_id</th>\n",
       "                \n",
       "            </table>\n",
       "        </body>\n",
       "        </HTML>"
      ],
      "text/plain": [
       "<IPython.core.display.HTML object>"
      ]
     },
     "metadata": {},
     "output_type": "display_data"
    }
   ],
   "source": [
    "time.sleep(5)\n",
    "wos_client.monitor_instances.show_metrics(monitor_instance_id=drift_monitor_instance_id)"
   ]
  },
  {
   "cell_type": "markdown",
   "metadata": {
    "id": "1d24b9b34edd42508491f6871e4e08f8"
   },
   "source": [
    "## Recap of the steps performed in this notebook\n",
    "\n",
    "\n",
    "* Through a python function, triggers an Azure Databricks invocations endpoint.\n",
    "* Deploys this python function to WML\n",
    "* Configures this python function deployment to IBM watsonx.governance for monitoring.\n",
    "* As this is a WML Python Function, automatic payload logging can happen, and it does the same by scoring the python function deployment end point.\n",
    "* Configures all the IBM watsonx.governance monitors and evaluates them"
   ]
  },
  {
   "cell_type": "markdown",
   "metadata": {
    "id": "6fa5f7094dbe4b9381a14684ba838844"
   },
   "source": [
    "Author: Ravi Chamarthy (ravi.chamarthy@in.ibm.com)"
   ]
  }
 ],
 "metadata": {
  "kernelspec": {
   "display_name": "Python 3 (ipykernel)",
   "language": "python",
   "name": "python3"
  },
  "language_info": {
   "codemirror_mode": {
    "name": "ipython",
    "version": 3
   },
   "file_extension": ".py",
   "mimetype": "text/x-python",
   "name": "python",
   "nbconvert_exporter": "python",
   "pygments_lexer": "ipython3",
   "version": "3.11.9"
  }
 },
 "nbformat": 4,
 "nbformat_minor": 4
}
